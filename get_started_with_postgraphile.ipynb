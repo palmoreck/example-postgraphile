{
 "cells": [
  {
   "cell_type": "markdown",
   "id": "e1932c44",
   "metadata": {},
   "source": [
    "Need to create next docker image..."
   ]
  },
  {
   "cell_type": "markdown",
   "id": "0ea7eabb",
   "metadata": {},
   "source": [
    "# Docker:"
   ]
  },
  {
   "cell_type": "markdown",
   "id": "ed24e030",
   "metadata": {},
   "source": [
    "```bash\n",
    "\n",
    "docker run --rm -d -v $(pwd):/datos --name jupyterlab_postgraphile -p 5000:5000 -p 8888:8888 palmoreck/postgraphile:3.0.16\n",
    "\n",
    "```"
   ]
  },
  {
   "cell_type": "markdown",
   "id": "d0f661af",
   "metadata": {},
   "source": [
    "# Example with django and postgreSQL-postgis"
   ]
  },
  {
   "cell_type": "markdown",
   "id": "a8bf6b42",
   "metadata": {},
   "source": [
    "using https://github.com/palmoreck/example-django/blob/main/get_started_with_django_part2.ipynb"
   ]
  },
  {
   "cell_type": "code",
   "execution_count": 1,
   "id": "f036d0f3",
   "metadata": {},
   "outputs": [
    {
     "name": "stdout",
     "output_type": "stream",
     "text": [
      "Operations to perform:\n",
      "  Apply all migrations: admin, auth, contenttypes, sessions\n",
      "Running migrations:\n",
      "  Applying contenttypes.0001_initial... OK\n",
      "  Applying auth.0001_initial... OK\n",
      "  Applying admin.0001_initial... OK\n",
      "  Applying admin.0002_logentry_remove_auto_add... OK\n",
      "  Applying admin.0003_logentry_add_action_flag_choices... OK\n",
      "  Applying contenttypes.0002_remove_content_type_name... OK\n",
      "  Applying auth.0002_alter_permission_name_max_length... OK\n",
      "  Applying auth.0003_alter_user_email_max_length... OK\n",
      "  Applying auth.0004_alter_user_username_opts... OK\n",
      "  Applying auth.0005_alter_user_last_login_null... OK\n",
      "  Applying auth.0006_require_contenttypes_0002... OK\n",
      "  Applying auth.0007_alter_validators_add_error_messages... OK\n",
      "  Applying auth.0008_alter_user_username_max_length... OK\n",
      "  Applying auth.0009_alter_user_last_name_max_length... OK\n",
      "  Applying auth.0010_alter_group_name_max_length... OK\n",
      "  Applying auth.0011_update_proxy_permissions... OK\n",
      "  Applying auth.0012_alter_user_first_name_max_length... OK\n",
      "  Applying sessions.0001_initial... OK\n"
     ]
    }
   ],
   "source": [
    "%%bash\n",
    "name_django_proj=mydjangoproj\n",
    "\n",
    "cd $HOME/\n",
    "mkdir myproj\n",
    "cd $HOME/myproj\n",
    "/home/$(whoami)/.local/bin/django-admin startproject $name_django_proj\n",
    "\n",
    "mv $name_django_proj/manage.py ./\n",
    "mv $name_django_proj/$name_django_proj/* $name_django_proj\n",
    "rm -r $name_django_proj/$name_django_proj/\n",
    "\n",
    "python3 manage.py migrate #if run it will create db.sqlite3 file\n"
   ]
  },
  {
   "cell_type": "code",
   "execution_count": 2,
   "id": "30ab741a",
   "metadata": {},
   "outputs": [],
   "source": [
    "%%bash\n",
    "cd $HOME/myproj\n",
    "python3 manage.py startapp satellital_images"
   ]
  },
  {
   "cell_type": "code",
   "execution_count": 3,
   "id": "8c3d3078",
   "metadata": {},
   "outputs": [],
   "source": [
    "%%bash\n",
    "file=$HOME/myproj/mydjangoproj/settings.py\n",
    "sed -i \"/'django.contrib.staticfiles',/a \\ \\ \\ \\ 'satellital_images',\" $file"
   ]
  },
  {
   "cell_type": "code",
   "execution_count": 4,
   "id": "cebd5ae7",
   "metadata": {},
   "outputs": [],
   "source": [
    "%%bash\n",
    "file=$HOME/myproj/mydjangoproj/settings.py\n",
    "sed -i \"s/'ENGINE': 'django.db.backends.sqlite3',/'ENGINE': 'django.contrib.gis.db.backends.postgis',/\" $file\n",
    "sed -i \"s/'NAME': BASE_DIR \\/ 'db.sqlite3',/'NAME': 'postgres',/\" $file\n",
    "sed -i \"/'NAME': 'postgres',/a \\ \\ \\ \\ \\ \\ \\ \\ 'USER': 'postgres',\" $file\n",
    "sed -i \"/'USER': 'postgres',/a \\ \\ \\ \\ \\ \\ \\ \\ 'PASSWORD': 'postgres',\" $file\n",
    "sed -i \"/'PASSWORD': 'postgres',/a \\ \\ \\ \\ \\ \\ \\ \\ 'HOST': '172.17.0.1',\" $file\n",
    "sed -i \"/'HOST': '172.17.0.1',/a \\ \\ \\ \\ \\ \\ \\ \\ 'PORT': '5432',\" $file"
   ]
  },
  {
   "cell_type": "code",
   "execution_count": 5,
   "id": "2d005041",
   "metadata": {},
   "outputs": [],
   "source": [
    "import os"
   ]
  },
  {
   "cell_type": "code",
   "execution_count": 6,
   "id": "9d3d440b",
   "metadata": {},
   "outputs": [
    {
     "name": "stdout",
     "output_type": "stream",
     "text": [
      "Overwriting /home/myuser/myproj/satellital_images/models.py\n"
     ]
    }
   ],
   "source": [
    "%%file {os.environ[\"HOME\"]}/myproj/satellital_images/models.py\n",
    "from django.contrib.gis.db import models\n",
    "\n",
    "class Collection(models.Model):\n",
    "    collection_type = models.CharField(unique=True, max_length=5)\n",
    "\n",
    "class Sensor(models.Model):\n",
    "    sensor_type = models.CharField(unique=True, max_length=10)\n",
    "    collection_att = models.ManyToManyField(\"Collection\")\n",
    "\n",
    "class PathRow(models.Model):\n",
    "    path_row = models.IntegerField(unique=True)\n",
    "    \n",
    "class Image(models.Model):\n",
    "    download_url = models.CharField(max_length=200, default=None)\n",
    "    sensor_image_att = models.ForeignKey(Sensor, related_name=\"sensor_images\", on_delete=models.CASCADE)\n",
    "    path_row_image_att = models.ForeignKey(PathRow, related_name=\"pathrow_images\", on_delete=models.CASCADE)\n",
    "    collection_image_att = models.ForeignKey(Collection, related_name=\"collection_images\", on_delete=models.CASCADE)\n",
    "    acquisition_date = models.DateTimeField()\n",
    "    footprint = models.PolygonField()"
   ]
  },
  {
   "cell_type": "markdown",
   "id": "45ca1b8e",
   "metadata": {},
   "source": [
    "**include img of DB**"
   ]
  },
  {
   "cell_type": "code",
   "execution_count": 7,
   "id": "d57af28c",
   "metadata": {},
   "outputs": [
    {
     "name": "stdout",
     "output_type": "stream",
     "text": [
      "Migrations for 'satellital_images':\n",
      "  satellital_images/migrations/0001_initial.py\n",
      "    - Create model Collection\n",
      "    - Create model PathRow\n",
      "    - Create model Sensor\n",
      "    - Create model Image\n"
     ]
    }
   ],
   "source": [
    "%%bash\n",
    "\n",
    "cd $HOME/myproj\n",
    "\n",
    "python3 manage.py makemigrations \n",
    "\n",
    "#python3 manage.py makemigrations satellital_images"
   ]
  },
  {
   "cell_type": "code",
   "execution_count": 8,
   "id": "ee82434f",
   "metadata": {},
   "outputs": [
    {
     "name": "stdout",
     "output_type": "stream",
     "text": [
      "Operations to perform:\n",
      "  Apply all migrations: admin, auth, contenttypes, satellital_images, sessions\n",
      "Running migrations:\n",
      "  Applying satellital_images.0001_initial... OK\n"
     ]
    }
   ],
   "source": [
    "%%bash\n",
    "\n",
    "cd $HOME/myproj/\n",
    "\n",
    "python3 manage.py migrate"
   ]
  },
  {
   "cell_type": "code",
   "execution_count": 12,
   "id": "5155a2aa-d2e4-4280-adce-efc4eadb3efb",
   "metadata": {},
   "outputs": [],
   "source": [
    "import getpass"
   ]
  },
  {
   "cell_type": "code",
   "execution_count": 17,
   "id": "da3c8b69",
   "metadata": {},
   "outputs": [],
   "source": [
    "direc = os.path.join(\"/home\", getpass.getuser())\n",
    "dir_json_scenes = os.path.join(os.getcwd(), \"metadata_scenes_downloaded\")\n",
    "direc_myproj = os.path.join(direc, \"myproj\")"
   ]
  },
  {
   "cell_type": "code",
   "execution_count": 18,
   "id": "4ec70700",
   "metadata": {},
   "outputs": [],
   "source": [
    "os.chdir(direc_myproj)\n",
    "os.environ.setdefault(\"DJANGO_SETTINGS_MODULE\", \"mydjangoproj.settings\")\n",
    "import django\n",
    "django.setup()\n",
    "from satellital_images.models import Collection, PathRow, Sensor"
   ]
  },
  {
   "cell_type": "code",
   "execution_count": 19,
   "id": "16d5af01",
   "metadata": {},
   "outputs": [],
   "source": [
    "import requests"
   ]
  },
  {
   "cell_type": "code",
   "execution_count": 20,
   "id": "23b2d301",
   "metadata": {},
   "outputs": [],
   "source": [
    "url = \"https://raw.githubusercontent.com/palmoreck/example-django/main/metadata_scenes_downloaded/\"\n",
    "\n",
    "scene = \"scene0.txt\""
   ]
  },
  {
   "cell_type": "code",
   "execution_count": 21,
   "id": "f1a0e6a0",
   "metadata": {},
   "outputs": [],
   "source": [
    "scene_url = os.path.join(url, scene)"
   ]
  },
  {
   "cell_type": "code",
   "execution_count": 22,
   "id": "f57116ed",
   "metadata": {},
   "outputs": [],
   "source": [
    "r = requests.get(scene_url)"
   ]
  },
  {
   "cell_type": "code",
   "execution_count": 23,
   "id": "d24f77a5",
   "metadata": {},
   "outputs": [],
   "source": [
    "scene = r.json()"
   ]
  },
  {
   "cell_type": "code",
   "execution_count": 24,
   "id": "78b17513",
   "metadata": {},
   "outputs": [
    {
     "data": {
      "text/plain": [
       "{'acquisitionDate': '2013-03-09',\n",
       " 'startTime': '2013-03-09',\n",
       " 'endTime': '2013-03-09',\n",
       " 'lowerLeftCoordinate': {'latitude': 18.09711, 'longitude': -100.57469},\n",
       " 'upperLeftCoordinate': {'latitude': 19.81465, 'longitude': -100.19015},\n",
       " 'upperRightCoordinate': {'latitude': 19.47153, 'longitude': -98.52673},\n",
       " 'lowerRightCoordinate': {'latitude': 17.75737, 'longitude': -98.92825},\n",
       " 'spatialFootprint': {'type': 'Polygon',\n",
       "  'coordinates': [[[-100.57469, 18.09711],\n",
       "    [-98.92825, 17.75737],\n",
       "    [-98.52673, 19.47153],\n",
       "    [-100.19015, 19.81465],\n",
       "    [-100.57469, 18.09711]]]},\n",
       " 'sceneBounds': '-100.57469,17.75737,-98.52673,19.81465',\n",
       " 'browseUrl': 'https://ims.cr.usgs.gov/browse/landsat_8_c1/2013/026/047/LT08_L1GT_026047_20130309_20170505_01_T2.jpg',\n",
       " 'dataAccessUrl': 'https://earthexplorer.usgs.gov/metadata/full/landsat_8_c1/LT80260472013068LGN02/',\n",
       " 'downloadUrl': 'https://earthexplorer.usgs.gov/download/external/options/landsat_8_c1/LT80260472013068LGN02/EE/',\n",
       " 'entityId': 'LT80260472013068LGN02',\n",
       " 'displayId': 'LT08_L1GT_026047_20130309_20170505_01_T2',\n",
       " 'metadataUrl': 'https://earthexplorer.usgs.gov/metadata/full/landsat_8_c1/LT80260472013068LGN02/?responseType=viewXml',\n",
       " 'fgdcMetadataUrl': 'https://earthexplorer.usgs.gov/metadata/fgdc/landsat_8_c1/LT80260472013068LGN02/',\n",
       " 'modifiedDate': '2013-03-09 17:01:29',\n",
       " 'orderUrl': None,\n",
       " 'bulkOrdered': False,\n",
       " 'ordered': False,\n",
       " 'summary': ''}"
      ]
     },
     "execution_count": 24,
     "metadata": {},
     "output_type": "execute_result"
    }
   ],
   "source": [
    "scene"
   ]
  },
  {
   "cell_type": "code",
   "execution_count": 32,
   "id": "700c9d93",
   "metadata": {},
   "outputs": [],
   "source": [
    "download_url = scene[\"downloadUrl\"]\n",
    "d = scene[\"displayId\"]\n",
    "list_d = d.split(\"_\")\n",
    "sensor=list_d[0]\n",
    "pathrow = list_d[2]\n",
    "collection=list_d[5]\n",
    "acq_date = scene[\"acquisitionDate\"]\n",
    "spatial_foot = scene[\"spatialFootprint\"]"
   ]
  },
  {
   "cell_type": "code",
   "execution_count": 38,
   "id": "5c97ed7d-27b9-4f33-b419-326e6fa09c59",
   "metadata": {},
   "outputs": [
    {
     "data": {
      "text/plain": [
       "{'type': 'Polygon',\n",
       " 'coordinates': [[[-100.57469, 18.09711],\n",
       "   [-98.92825, 17.75737],\n",
       "   [-98.52673, 19.47153],\n",
       "   [-100.19015, 19.81465],\n",
       "   [-100.57469, 18.09711]]]}"
      ]
     },
     "execution_count": 38,
     "metadata": {},
     "output_type": "execute_result"
    }
   ],
   "source": [
    "spatial_foot"
   ]
  },
  {
   "cell_type": "code",
   "execution_count": 33,
   "id": "7209ffb0-4991-40c2-8f40-8422e7ac1092",
   "metadata": {},
   "outputs": [],
   "source": [
    "from django.contrib.gis.geos.geometry import GEOSGeometry"
   ]
  },
  {
   "cell_type": "code",
   "execution_count": 34,
   "id": "e43e40db-454a-4939-a459-9d44311dfede",
   "metadata": {},
   "outputs": [],
   "source": [
    "import json"
   ]
  },
  {
   "cell_type": "code",
   "execution_count": 36,
   "id": "2713492f-4d9d-4778-9456-a7061f9d5c39",
   "metadata": {},
   "outputs": [],
   "source": [
    "spatial_foot_geom = GEOSGeometry(json.dumps(spatial_foot))"
   ]
  },
  {
   "cell_type": "code",
   "execution_count": 39,
   "id": "89c1e0ae",
   "metadata": {},
   "outputs": [],
   "source": [
    "coll = Collection(collection_type=collection)\n",
    "pr = PathRow(path_row=pathrow)\n",
    "sen = Sensor(sensor_type=sensor)"
   ]
  },
  {
   "cell_type": "code",
   "execution_count": 40,
   "id": "347788f7",
   "metadata": {},
   "outputs": [],
   "source": [
    "#next set default to avoid SynchronousOnlyOperation error:\n",
    "#You cannot call this from an async context - use a thread or sync_to_async.\n",
    "os.environ.setdefault(\"DJANGO_ALLOW_ASYNC_UNSAFE\", \"true\")\n",
    "coll.save()\n",
    "pr.save()\n",
    "sen.save()\n",
    "sen.collection_att.add(coll)"
   ]
  },
  {
   "cell_type": "code",
   "execution_count": 41,
   "id": "0bcb0959",
   "metadata": {},
   "outputs": [],
   "source": [
    "from satellital_images.models import Image"
   ]
  },
  {
   "cell_type": "code",
   "execution_count": 43,
   "id": "f991412e",
   "metadata": {},
   "outputs": [],
   "source": [
    "img = Image(download_url=download_url,\n",
    "            sensor_image_att=sen,\n",
    "            path_row_image_att=pr,\n",
    "            collection_image_att=coll,\n",
    "            acquisition_date=acq_date,\n",
    "            footprint=spatial_foot_geom)"
   ]
  },
  {
   "cell_type": "code",
   "execution_count": 44,
   "id": "4eb65c0e",
   "metadata": {},
   "outputs": [
    {
     "name": "stderr",
     "output_type": "stream",
     "text": [
      "/home/myuser/.local/lib/python3.6/site-packages/django/db/models/fields/__init__.py:1419: RuntimeWarning: DateTimeField Image.acquisition_date received a naive datetime (2013-03-09 00:00:00) while time zone support is active.\n",
      "  RuntimeWarning)\n"
     ]
    }
   ],
   "source": [
    "#next set default to avoid SynchronousOnlyOperation error:\n",
    "#You cannot call this from an async context - use a thread or sync_to_async.\n",
    "os.environ.setdefault(\"DJANGO_ALLOW_ASYNC_UNSAFE\", \"true\")\n",
    "img.save()"
   ]
  },
  {
   "cell_type": "markdown",
   "id": "1225f9b5",
   "metadata": {},
   "source": [
    "**Next just to check, normally is not necessary to execute:**"
   ]
  },
  {
   "cell_type": "code",
   "execution_count": 70,
   "id": "d308e305-b240-4773-ba0a-f4e77c31e81d",
   "metadata": {},
   "outputs": [
    {
     "name": "stdout",
     "output_type": "stream",
     "text": [
      "Image object (1)\n"
     ]
    }
   ],
   "source": [
    "for i in Image.objects.raw(\"SELECT id, download_url, st_asgeojson(footprint) FROM satellital_images_image\"):\n",
    "    print(i)"
   ]
  },
  {
   "cell_type": "code",
   "execution_count": 72,
   "id": "783abfac-b1ae-4b4e-ad2e-a0c693b88c63",
   "metadata": {},
   "outputs": [
    {
     "data": {
      "text/plain": [
       "'https://earthexplorer.usgs.gov/download/external/options/landsat_8_c1/LT80260472013068LGN02/EE/'"
      ]
     },
     "execution_count": 72,
     "metadata": {},
     "output_type": "execute_result"
    }
   ],
   "source": [
    "i.download_url"
   ]
  },
  {
   "cell_type": "code",
   "execution_count": 74,
   "id": "11a2e1a0-1b3f-4c2c-9635-0d6ae5b03b73",
   "metadata": {},
   "outputs": [
    {
     "data": {
      "text/plain": [
       "<Polygon object at 0x7f220b9093c8>"
      ]
     },
     "execution_count": 74,
     "metadata": {},
     "output_type": "execute_result"
    }
   ],
   "source": [
    "i.footprint"
   ]
  },
  {
   "cell_type": "markdown",
   "id": "d2bde71f",
   "metadata": {},
   "source": [
    "**Another scene:**"
   ]
  },
  {
   "cell_type": "code",
   "execution_count": 75,
   "id": "02ac89ac",
   "metadata": {},
   "outputs": [],
   "source": [
    "scene = \"scene1.txt\""
   ]
  },
  {
   "cell_type": "code",
   "execution_count": 76,
   "id": "24a934dd",
   "metadata": {},
   "outputs": [],
   "source": [
    "scene_url = os.path.join(url, scene)"
   ]
  },
  {
   "cell_type": "code",
   "execution_count": 77,
   "id": "bee738ae",
   "metadata": {},
   "outputs": [],
   "source": [
    "r = requests.get(scene_url)"
   ]
  },
  {
   "cell_type": "code",
   "execution_count": 78,
   "id": "d7e9efa6",
   "metadata": {},
   "outputs": [],
   "source": [
    "scene = r.json()"
   ]
  },
  {
   "cell_type": "code",
   "execution_count": 79,
   "id": "ef1e82ef",
   "metadata": {},
   "outputs": [
    {
     "data": {
      "text/plain": [
       "{'acquisitionDate': '2013-03-09',\n",
       " 'startTime': '2013-03-09',\n",
       " 'endTime': '2013-03-09',\n",
       " 'lowerLeftCoordinate': {'latitude': 16.65451, 'longitude': -100.89458},\n",
       " 'upperLeftCoordinate': {'latitude': 18.37292, 'longitude': -100.51363},\n",
       " 'upperRightCoordinate': {'latitude': 18.03105, 'longitude': -98.86481},\n",
       " 'lowerRightCoordinate': {'latitude': 16.31592, 'longitude': -99.26119},\n",
       " 'spatialFootprint': {'type': 'Polygon',\n",
       "  'coordinates': [[[-100.89458, 16.65451],\n",
       "    [-99.26119, 16.31592],\n",
       "    [-98.86481, 18.03105],\n",
       "    [-100.51363, 18.37292],\n",
       "    [-100.89458, 16.65451]]]},\n",
       " 'sceneBounds': '-100.89458,16.31592,-98.86481,18.37292',\n",
       " 'browseUrl': 'https://ims.cr.usgs.gov/browse/landsat_8_c1/2013/026/048/LT08_L1GT_026048_20130309_20170505_01_T2.jpg',\n",
       " 'dataAccessUrl': 'https://earthexplorer.usgs.gov/metadata/full/landsat_8_c1/LT80260482013068LGN02/',\n",
       " 'downloadUrl': 'https://earthexplorer.usgs.gov/download/external/options/landsat_8_c1/LT80260482013068LGN02/EE/',\n",
       " 'entityId': 'LT80260482013068LGN02',\n",
       " 'displayId': 'LT08_L1GT_026048_20130309_20170505_01_T2',\n",
       " 'metadataUrl': 'https://earthexplorer.usgs.gov/metadata/full/landsat_8_c1/LT80260482013068LGN02/?responseType=viewXml',\n",
       " 'fgdcMetadataUrl': 'https://earthexplorer.usgs.gov/metadata/fgdc/landsat_8_c1/LT80260482013068LGN02/',\n",
       " 'modifiedDate': '2013-03-09 17:01:29',\n",
       " 'orderUrl': None,\n",
       " 'bulkOrdered': False,\n",
       " 'ordered': False,\n",
       " 'summary': ''}"
      ]
     },
     "execution_count": 79,
     "metadata": {},
     "output_type": "execute_result"
    }
   ],
   "source": [
    "scene "
   ]
  },
  {
   "cell_type": "code",
   "execution_count": 80,
   "id": "c01443e4",
   "metadata": {},
   "outputs": [],
   "source": [
    "download_url = scene[\"downloadUrl\"]\n",
    "d = scene[\"displayId\"]\n",
    "list_d = d.split(\"_\")\n",
    "sensor=list_d[0]\n",
    "pathrow = list_d[2]\n",
    "collection=list_d[5]\n",
    "acq_date = scene[\"acquisitionDate\"]\n",
    "spatial_foot = scene[\"spatialFootprint\"]"
   ]
  },
  {
   "cell_type": "code",
   "execution_count": 81,
   "id": "cc91485c",
   "metadata": {},
   "outputs": [
    {
     "data": {
      "text/plain": [
       "'026048'"
      ]
     },
     "execution_count": 81,
     "metadata": {},
     "output_type": "execute_result"
    }
   ],
   "source": [
    "pathrow"
   ]
  },
  {
   "cell_type": "code",
   "execution_count": 82,
   "id": "224efc1c",
   "metadata": {},
   "outputs": [
    {
     "data": {
      "text/plain": [
       "'01'"
      ]
     },
     "execution_count": 82,
     "metadata": {},
     "output_type": "execute_result"
    }
   ],
   "source": [
    "collection"
   ]
  },
  {
   "cell_type": "code",
   "execution_count": 83,
   "id": "61edb833",
   "metadata": {},
   "outputs": [
    {
     "data": {
      "text/plain": [
       "'LT08'"
      ]
     },
     "execution_count": 83,
     "metadata": {},
     "output_type": "execute_result"
    }
   ],
   "source": [
    "sensor"
   ]
  },
  {
   "cell_type": "code",
   "execution_count": 84,
   "id": "81b6d508-049f-4d34-aa91-f6d6953c5e71",
   "metadata": {},
   "outputs": [
    {
     "data": {
      "text/plain": [
       "{'type': 'Polygon',\n",
       " 'coordinates': [[[-100.89458, 16.65451],\n",
       "   [-99.26119, 16.31592],\n",
       "   [-98.86481, 18.03105],\n",
       "   [-100.51363, 18.37292],\n",
       "   [-100.89458, 16.65451]]]}"
      ]
     },
     "execution_count": 84,
     "metadata": {},
     "output_type": "execute_result"
    }
   ],
   "source": [
    "spatial_foot"
   ]
  },
  {
   "cell_type": "code",
   "execution_count": 85,
   "id": "ac12731c",
   "metadata": {},
   "outputs": [],
   "source": [
    "coll = Collection.objects.get_or_create(collection_type=collection)\n",
    "pr = PathRow.objects.get_or_create(path_row=pathrow)\n",
    "sen = Sensor.objects.get_or_create(sensor_type=sensor)"
   ]
  },
  {
   "cell_type": "code",
   "execution_count": 86,
   "id": "4769782d",
   "metadata": {},
   "outputs": [
    {
     "data": {
      "text/plain": [
       "(<Collection: Collection object (1)>, False)"
      ]
     },
     "execution_count": 86,
     "metadata": {},
     "output_type": "execute_result"
    }
   ],
   "source": [
    "coll"
   ]
  },
  {
   "cell_type": "code",
   "execution_count": 87,
   "id": "489f1eb5",
   "metadata": {},
   "outputs": [
    {
     "data": {
      "text/plain": [
       "(<PathRow: PathRow object (2)>, True)"
      ]
     },
     "execution_count": 87,
     "metadata": {},
     "output_type": "execute_result"
    }
   ],
   "source": [
    "pr"
   ]
  },
  {
   "cell_type": "code",
   "execution_count": 88,
   "id": "320bcaa0",
   "metadata": {},
   "outputs": [
    {
     "data": {
      "text/plain": [
       "(<Sensor: Sensor object (1)>, False)"
      ]
     },
     "execution_count": 88,
     "metadata": {},
     "output_type": "execute_result"
    }
   ],
   "source": [
    "sen"
   ]
  },
  {
   "cell_type": "markdown",
   "id": "4c31ca05",
   "metadata": {},
   "source": [
    "**True was created a new row, False just get the row**"
   ]
  },
  {
   "cell_type": "code",
   "execution_count": 89,
   "id": "4bf43a88",
   "metadata": {},
   "outputs": [],
   "source": [
    "coll = coll[0]\n",
    "pr = pr[0]\n",
    "sen = sen[0]"
   ]
  },
  {
   "cell_type": "code",
   "execution_count": 90,
   "id": "8a8ea1c9",
   "metadata": {},
   "outputs": [],
   "source": [
    "#next set default to avoid SynchronousOnlyOperation error:\n",
    "#You cannot call this from an async context - use a thread or sync_to_async.\n",
    "os.environ.setdefault(\"DJANGO_ALLOW_ASYNC_UNSAFE\", \"true\")\n",
    "coll.save()\n",
    "pr.save()\n",
    "sen.save()\n",
    "sen.collection_att.add(coll)"
   ]
  },
  {
   "cell_type": "code",
   "execution_count": 91,
   "id": "8a21a37b",
   "metadata": {},
   "outputs": [],
   "source": [
    "img = Image(download_url=download_url,\n",
    "            sensor_image_att=sen,\n",
    "            path_row_image_att=pr,\n",
    "            collection_image_att=coll,\n",
    "            acquisition_date=acq_date,\n",
    "            footprint=spatial_foot_geom)"
   ]
  },
  {
   "cell_type": "code",
   "execution_count": 92,
   "id": "c83a6cd2",
   "metadata": {},
   "outputs": [
    {
     "name": "stderr",
     "output_type": "stream",
     "text": [
      "/home/myuser/.local/lib/python3.6/site-packages/django/db/models/fields/__init__.py:1419: RuntimeWarning: DateTimeField Image.acquisition_date received a naive datetime (2013-03-09 00:00:00) while time zone support is active.\n",
      "  RuntimeWarning)\n"
     ]
    }
   ],
   "source": [
    "#next set default to avoid SynchronousOnlyOperation error:\n",
    "#You cannot call this from an async context - use a thread or sync_to_async.\n",
    "os.environ.setdefault(\"DJANGO_ALLOW_ASYNC_UNSAFE\", \"true\")\n",
    "img.save()"
   ]
  },
  {
   "cell_type": "code",
   "execution_count": 93,
   "id": "2be48673-26fa-4763-b8f7-1932c567d769",
   "metadata": {},
   "outputs": [
    {
     "name": "stdout",
     "output_type": "stream",
     "text": [
      "Image object (1)\n",
      "Image object (2)\n"
     ]
    }
   ],
   "source": [
    "for i in Image.objects.raw(\"SELECT id, download_url, st_asgeojson(footprint) FROM satellital_images_image\"):\n",
    "    print(i)"
   ]
  },
  {
   "cell_type": "code",
   "execution_count": 94,
   "id": "0ddcc215-618d-4f47-8eb2-61564f4f8733",
   "metadata": {},
   "outputs": [
    {
     "data": {
      "text/plain": [
       "'https://earthexplorer.usgs.gov/download/external/options/landsat_8_c1/LT80260482013068LGN02/EE/'"
      ]
     },
     "execution_count": 94,
     "metadata": {},
     "output_type": "execute_result"
    }
   ],
   "source": [
    "i.download_url"
   ]
  },
  {
   "cell_type": "code",
   "execution_count": 95,
   "id": "c2fa7c25-c64a-44c3-a019-f4ad8cacc743",
   "metadata": {},
   "outputs": [
    {
     "data": {
      "text/plain": [
       "<Polygon object at 0x7f220b9091a8>"
      ]
     },
     "execution_count": 95,
     "metadata": {},
     "output_type": "execute_result"
    }
   ],
   "source": [
    "i.footprint"
   ]
  },
  {
   "cell_type": "markdown",
   "id": "ffc134db-96fc-4e8b-ba9e-86ae07d3ac0e",
   "metadata": {},
   "source": [
    "## Example query with postgraphile"
   ]
  },
  {
   "cell_type": "markdown",
   "id": "020848b1-c4ca-4cde-9468-dad067d9e5cc",
   "metadata": {},
   "source": [
    "```\n",
    "query MyQuery {\n",
    "  query {\n",
    "    satellitalImagesImageById(id: \"1\") {\n",
    "      id\n",
    "      acquisitionDate\n",
    "      downloadUrl\n",
    "      footprint {\n",
    "        geojson\n",
    "      }\n",
    "    }\n",
    "  }\n",
    "}\n",
    "```"
   ]
  },
  {
   "cell_type": "code",
   "execution_count": null,
   "id": "53230bbc-12a6-43bf-a158-8cab332b4bf5",
   "metadata": {},
   "outputs": [],
   "source": []
  }
 ],
 "metadata": {
  "kernelspec": {
   "display_name": "Python 3",
   "language": "python",
   "name": "python3"
  },
  "language_info": {
   "codemirror_mode": {
    "name": "ipython",
    "version": 3
   },
   "file_extension": ".py",
   "mimetype": "text/x-python",
   "name": "python",
   "nbconvert_exporter": "python",
   "pygments_lexer": "ipython3",
   "version": "3.6.9"
  }
 },
 "nbformat": 4,
 "nbformat_minor": 5
}
