{
 "cells": [
  {
   "cell_type": "markdown",
   "id": "3b045784-8d26-408c-835a-2bef2dee420c",
   "metadata": {},
   "source": [
    "Need to create next docker image..."
   ]
  },
  {
   "cell_type": "markdown",
   "id": "4c581303-530e-48ab-94b8-d7a33e5c9d45",
   "metadata": {},
   "source": [
    "# Docker:"
   ]
  },
  {
   "cell_type": "markdown",
   "id": "86bb8b44-dece-413c-ad3b-3cce9fbb5ffb",
   "metadata": {},
   "source": [
    "```bash\n",
    "\n",
    "docker run --rm -d -v $(pwd):/datos --name jupyterlab_postgraphile -p 8000:8000 -p 8989:8888 palmoreck/postgraphile:3.0.16\n",
    "\n",
    "```"
   ]
  },
  {
   "cell_type": "markdown",
   "id": "baa0d702-8a80-43d0-83ae-5f0cd7090758",
   "metadata": {},
   "source": [
    "# Example with django and postgreSQL-postgis"
   ]
  },
  {
   "cell_type": "markdown",
   "id": "6dc5fdf3-3a19-4900-acb6-5ca8c6b54efd",
   "metadata": {},
   "source": [
    "using https://github.com/palmoreck/example-django/blob/main/get_started_with_django_part2.ipynb"
   ]
  },
  {
   "cell_type": "code",
   "execution_count": 1,
   "id": "dcec1349-e03f-4577-bea7-915f8e1a6209",
   "metadata": {},
   "outputs": [],
   "source": [
    "%%bash\n",
    "name_django_proj=mydjangoproj\n",
    "\n",
    "cd $HOME/\n",
    "mkdir myproj\n",
    "cd $HOME/myproj\n",
    "/home/miuser/.local/bin/django-admin startproject $name_django_proj\n",
    "\n",
    "mv $name_django_proj/manage.py ./\n",
    "mv $name_django_proj/$name_django_proj/* $name_django_proj\n",
    "rm -r $name_django_proj/$name_django_proj/\n",
    "\n",
    "python3 manage.py migrate #if run it will create db.sqlite3 file\n"
   ]
  },
  {
   "cell_type": "code",
   "execution_count": 2,
   "id": "673b1d63-48ac-4bac-bd36-6b1f60c486e6",
   "metadata": {},
   "outputs": [],
   "source": [
    "%%bash\n",
    "cd $HOME/myproj\n",
    "python3 manage.py startapp satellital_images"
   ]
  },
  {
   "cell_type": "code",
   "execution_count": 3,
   "id": "0bee907e-cbe5-4f66-829a-2e478f45ce3b",
   "metadata": {},
   "outputs": [],
   "source": [
    "%%bash\n",
    "file=$HOME/myproj/mydjangoproj/settings.py\n",
    "sed -i \"/'django.contrib.staticfiles',/a \\ \\ \\ \\ 'satellital_images',\" $file"
   ]
  },
  {
   "cell_type": "code",
   "execution_count": 4,
   "id": "7ea1fa8d-5356-49e4-a66b-4e3945b92468",
   "metadata": {},
   "outputs": [],
   "source": [
    "import os"
   ]
  },
  {
   "cell_type": "code",
   "execution_count": 5,
   "id": "7cfbdd1f-f45f-4ee8-b709-a10ecdac10b3",
   "metadata": {},
   "outputs": [
    {
     "name": "stdout",
     "output_type": "stream",
     "text": [
      "Overwriting /home/miuser/example-django/myproj/satellital_images/models.py\n"
     ]
    }
   ],
   "source": [
    "%%file {os.environ[\"HOME\"]}/myproj/satellital_images/models.py\n",
    "from django.db import models\n",
    "\n",
    "class Collection(models.Model):\n",
    "    collection_type = models.CharField(unique=True, max_length=5)\n",
    "\n",
    "class Sensor(models.Model):\n",
    "    sensor_type = models.CharField(unique=True, max_length=10)\n",
    "    collection_att = models.ManyToManyField(\"Collection\")\n",
    "\n",
    "class PathRow(models.Model):\n",
    "    path_row = models.IntegerField(unique=True)\n",
    "    \n",
    "class Image(models.Model):\n",
    "    download_url = models.CharField(max_length=200, default=None)\n",
    "    sensor_image_att = models.ForeignKey(Sensor, related_name=\"sensor_images\", on_delete=models.CASCADE)\n",
    "    path_row_image_att = models.ForeignKey(PathRow, related_name=\"pathrow_images\", on_delete=models.CASCADE)\n",
    "    collection_image_att = models.ForeignKey(Collection, related_name=\"collection_images\", on_delete=models.CASCADE)\n",
    "    acquisition_date = models.DateTimeField()\n",
    "    "
   ]
  },
  {
   "cell_type": "markdown",
   "id": "ddaf703a-918f-42e6-a4d6-561ec7b0aaad",
   "metadata": {},
   "source": [
    "**include img of DB**"
   ]
  },
  {
   "cell_type": "code",
   "execution_count": 6,
   "id": "5b244508-51a5-4e5a-8e7b-6d09f4283ba0",
   "metadata": {},
   "outputs": [
    {
     "name": "stdout",
     "output_type": "stream",
     "text": [
      "Migrations for 'satellital_images':\n",
      "  satellital_images/migrations/0001_initial.py\n",
      "    - Create model Collection\n",
      "    - Create model PathRow\n",
      "    - Create model Sensor\n",
      "    - Create model Image\n"
     ]
    }
   ],
   "source": [
    "%%bash\n",
    "\n",
    "cd $HOME/myproj\n",
    "\n",
    "python3 manage.py makemigrations \n",
    "\n",
    "#python3 manage.py makemigrations satellital_images"
   ]
  },
  {
   "cell_type": "code",
   "execution_count": 7,
   "id": "b7d1bf61-7bac-4cf5-adb0-34f8908bdb84",
   "metadata": {},
   "outputs": [
    {
     "name": "stdout",
     "output_type": "stream",
     "text": [
      "Operations to perform:\n",
      "  Apply all migrations: admin, auth, contenttypes, satellital_images, sessions\n",
      "Running migrations:\n",
      "  Applying satellital_images.0001_initial... OK\n"
     ]
    }
   ],
   "source": [
    "%%bash\n",
    "\n",
    "cd $HOME/myproj/\n",
    "\n",
    "python3 manage.py migrate"
   ]
  },
  {
   "cell_type": "markdown",
   "id": "e8eed509-8d40-48cf-956b-26b12aa06bff",
   "metadata": {},
   "source": [
    "**Cmd to see query in sql: python3 manage.py sqlmigrate satellital_images 0001_initial.py**"
   ]
  },
  {
   "cell_type": "code",
   "execution_count": 8,
   "id": "114ffe9c-1dd1-4c39-83cd-226d59b991d3",
   "metadata": {},
   "outputs": [],
   "source": [
    "direc = \"/home/miuser\"\n",
    "dir_json_scenes = os.path.join(os.getcwd(), \"metadata_scenes_downloaded\")\n",
    "direc_myproj = os.path.join(direc, \"myproj\")"
   ]
  },
  {
   "cell_type": "code",
   "execution_count": 9,
   "id": "aab8164a-ef87-4d3d-bd41-2f958c0eb07b",
   "metadata": {},
   "outputs": [],
   "source": [
    "os.chdir(direc_myproj)\n",
    "os.environ.setdefault(\"DJANGO_SETTINGS_MODULE\", \"mydjangoproj.settings\")\n",
    "import django\n",
    "django.setup()\n",
    "from satellital_images.models import Collection, PathRow, Sensor"
   ]
  },
  {
   "cell_type": "code",
   "execution_count": 1,
   "id": "78939b02-e9d7-40d7-90f5-6ea4a078fd46",
   "metadata": {},
   "outputs": [],
   "source": [
    "import requests"
   ]
  },
  {
   "cell_type": "code",
   "execution_count": 2,
   "id": "308b8de3-29e4-42b8-9dd0-d92c813720ce",
   "metadata": {},
   "outputs": [],
   "source": [
    "url = \"https://raw.githubusercontent.com/palmoreck/example-django/main/metadata_scenes_downloaded/\"\n",
    "\n",
    "scene = \"scene0.txt\""
   ]
  },
  {
   "cell_type": "code",
   "execution_count": 3,
   "id": "ad61053a-df13-4d94-be6e-34ef31a8580a",
   "metadata": {},
   "outputs": [],
   "source": [
    "scene_url = os.path.join(url, scene)"
   ]
  },
  {
   "cell_type": "code",
   "execution_count": 4,
   "id": "b30c8f48-1343-4123-88ee-3c6eb3393446",
   "metadata": {},
   "outputs": [],
   "source": [
    "r = requests.get(scene_url)"
   ]
  },
  {
   "cell_type": "code",
   "execution_count": 6,
   "id": "e3c234de-70c6-4851-bbb4-54b8ad80a58e",
   "metadata": {},
   "outputs": [],
   "source": [
    "scene = r.json()"
   ]
  },
  {
   "cell_type": "code",
   "execution_count": null,
   "id": "c1c954c5-69e1-4281-9a0f-a42ff6f48346",
   "metadata": {},
   "outputs": [],
   "source": [
    "scene"
   ]
  },
  {
   "cell_type": "code",
   "execution_count": 8,
   "id": "8e451dc1-145e-4bcd-a19a-4c01e677bb0e",
   "metadata": {},
   "outputs": [],
   "source": [
    "download_url = scene[\"downloadUrl\"]\n",
    "d = scene[\"displayId\"]\n",
    "list_d = d.split(\"_\")\n",
    "sensor=list_d[0]\n",
    "pathrow = list_d[2]\n",
    "collection=list_d[5]\n",
    "acq_date = scene[\"acquisitionDate\"]"
   ]
  },
  {
   "cell_type": "code",
   "execution_count": 17,
   "id": "31246de4-fa6f-4ee6-b6c5-edc27e19b917",
   "metadata": {},
   "outputs": [],
   "source": [
    "coll = Collection(collection_type=collection)\n",
    "pr = PathRow(path_row=pathrow)\n",
    "sen = Sensor(sensor_type=sensor)"
   ]
  },
  {
   "cell_type": "code",
   "execution_count": 18,
   "id": "c694c19b-57d7-471a-b706-511d72eb28a7",
   "metadata": {},
   "outputs": [],
   "source": [
    "#next set default to avoid SynchronousOnlyOperation error:\n",
    "#You cannot call this from an async context - use a thread or sync_to_async.\n",
    "os.environ.setdefault(\"DJANGO_ALLOW_ASYNC_UNSAFE\", \"true\")\n",
    "coll.save()\n",
    "pr.save()\n",
    "sen.save()\n",
    "sen.collection_att.add(coll)"
   ]
  },
  {
   "cell_type": "code",
   "execution_count": 19,
   "id": "c287c00d-3821-46d3-be02-e678f5131f85",
   "metadata": {},
   "outputs": [],
   "source": [
    "from satellital_images.models import Image"
   ]
  },
  {
   "cell_type": "code",
   "execution_count": 20,
   "id": "8eae704a-2d2e-495d-a41c-64a2d6526703",
   "metadata": {},
   "outputs": [],
   "source": [
    "img = Image(download_url=download_url,\n",
    "            sensor_image_att=sen,\n",
    "            path_row_image_att=pr,\n",
    "            collection_image_att=coll,\n",
    "            acquisition_date=acq_date)"
   ]
  },
  {
   "cell_type": "code",
   "execution_count": 21,
   "id": "602428b0-73a0-41cc-b8c8-9369b2b496f7",
   "metadata": {},
   "outputs": [
    {
     "name": "stderr",
     "output_type": "stream",
     "text": [
      "/home/miuser/.local/lib/python3.6/site-packages/django/db/models/fields/__init__.py:1370: RuntimeWarning: DateTimeField Image.acquisition_date received a naive datetime (2013-03-10 00:00:00) while time zone support is active.\n",
      "  RuntimeWarning)\n"
     ]
    }
   ],
   "source": [
    "#next set default to avoid SynchronousOnlyOperation error:\n",
    "#You cannot call this from an async context - use a thread or sync_to_async.\n",
    "os.environ.setdefault(\"DJANGO_ALLOW_ASYNC_UNSAFE\", \"true\")\n",
    "img.save()"
   ]
  },
  {
   "cell_type": "code",
   "execution_count": 22,
   "id": "fc131cc8-6293-4d89-95c8-dcaaeec7f91f",
   "metadata": {},
   "outputs": [
    {
     "name": "stdout",
     "output_type": "stream",
     "text": [
      "[('django_migrations',), ('sqlite_sequence',), ('auth_group_permissions',), ('auth_user_groups',), ('auth_user_user_permissions',), ('django_admin_log',), ('django_content_type',), ('auth_permission',), ('auth_group',), ('auth_user',), ('django_session',), ('satellital_images_collection',), ('satellital_images_pathrow',), ('satellital_images_sensor',), ('satellital_images_sensor_collection_att',), ('satellital_images_image',)]\n"
     ]
    }
   ],
   "source": [
    "import sqlite3\n",
    "\n",
    "connection = sqlite3.connect(\"db.sqlite3\")\n",
    "cursor = connection.cursor()\n",
    "\n",
    "cursor.execute(\"SELECT name FROM sqlite_master WHERE type='table';\")\n",
    "\n",
    "print(cursor.fetchall())"
   ]
  },
  {
   "cell_type": "markdown",
   "id": "31041564-6b2e-4a9c-95be-3009d2011170",
   "metadata": {},
   "source": [
    "**Next just to check, normally is not necessary to execute:**"
   ]
  },
  {
   "cell_type": "code",
   "execution_count": 23,
   "id": "ede06d8f-1f72-4881-8892-94bc55a7448c",
   "metadata": {},
   "outputs": [
    {
     "name": "stdout",
     "output_type": "stream",
     "text": [
      "[(1, 'https://earthexplorer.usgs.gov/download/external/options/landsat_8_c1/LT80320382013069LGN02/EE/', '2013-03-10 00:00:00', 1, 1, 1)]\n"
     ]
    }
   ],
   "source": [
    "rows = cursor.execute(\"SELECT * FROM satellital_images_image\").fetchall()\n",
    "print(rows)"
   ]
  },
  {
   "cell_type": "code",
   "execution_count": 24,
   "id": "d7aa2b63-c485-4f3d-8e08-48611212854a",
   "metadata": {},
   "outputs": [
    {
     "name": "stdout",
     "output_type": "stream",
     "text": [
      "[(1, '01')]\n"
     ]
    }
   ],
   "source": [
    "rows = cursor.execute(\"SELECT * FROM satellital_images_collection\").fetchall()\n",
    "print(rows)"
   ]
  },
  {
   "cell_type": "code",
   "execution_count": 25,
   "id": "3f6841b9-1538-472a-8704-11cd730944db",
   "metadata": {},
   "outputs": [
    {
     "name": "stdout",
     "output_type": "stream",
     "text": [
      "[(1, 'LT08')]\n"
     ]
    }
   ],
   "source": [
    "rows = cursor.execute(\"SELECT * FROM satellital_images_sensor\").fetchall()\n",
    "print(rows)"
   ]
  },
  {
   "cell_type": "code",
   "execution_count": 26,
   "id": "a8a0ab1a-fd98-4693-8983-e566abf07679",
   "metadata": {},
   "outputs": [
    {
     "name": "stdout",
     "output_type": "stream",
     "text": [
      "[(1, 1, 1)]\n"
     ]
    }
   ],
   "source": [
    "rows = cursor.execute(\"SELECT * FROM satellital_images_sensor_collection_att\").fetchall()\n",
    "print(rows)"
   ]
  },
  {
   "cell_type": "code",
   "execution_count": 27,
   "id": "2164fda8-0cf8-40a0-9bc5-4877ee23140f",
   "metadata": {},
   "outputs": [
    {
     "name": "stdout",
     "output_type": "stream",
     "text": [
      "[(1, 32038)]\n"
     ]
    }
   ],
   "source": [
    "rows = cursor.execute(\"SELECT * FROM satellital_images_pathrow\").fetchall()\n",
    "print(rows)"
   ]
  },
  {
   "cell_type": "markdown",
   "id": "bc973842-6d60-4dc2-a2f2-f661e68c4ad5",
   "metadata": {},
   "source": [
    "**If we want to change path_row attribute (column) of PathRow class:**"
   ]
  },
  {
   "cell_type": "code",
   "execution_count": 28,
   "id": "2765f03e-cab9-463f-9b71-a1fc88a84b77",
   "metadata": {},
   "outputs": [
    {
     "name": "stdout",
     "output_type": "stream",
     "text": [
      "Overwriting /home/miuser/example-django/myproj/satellital_images/models.py\n"
     ]
    }
   ],
   "source": [
    "%%file {os.environ[\"HOME\"]}/myproj/satellital_images/models.py\n",
    "from django.db import models\n",
    "\n",
    "class Collection(models.Model):\n",
    "    collection_type = models.CharField(unique=True, max_length=5)\n",
    "\n",
    "class Sensor(models.Model):\n",
    "    sensor_type = models.CharField(unique=True, max_length=10)\n",
    "    collection_att = models.ManyToManyField(\"Collection\")\n",
    "\n",
    "class PathRow(models.Model):\n",
    "    path_row = models.CharField(unique=True,max_length=10)#here the change\n",
    "    \n",
    "class Image(models.Model):\n",
    "    download_url = models.CharField(max_length=200, default=None)\n",
    "    sensor_image_att = models.ForeignKey(Sensor, related_name=\"sensor_images\", on_delete=models.CASCADE)\n",
    "    path_row_image_att = models.ForeignKey(PathRow, related_name=\"pathrow_images\", on_delete=models.CASCADE)\n",
    "    collection_image_att = models.ForeignKey(Collection, related_name=\"collection_images\", on_delete=models.CASCADE)\n",
    "    acquisition_date = models.DateTimeField()\n",
    "    "
   ]
  },
  {
   "cell_type": "markdown",
   "id": "f43cb2eb-95a5-40ac-97b2-a19884580678",
   "metadata": {},
   "source": [
    "**Another scene:**"
   ]
  },
  {
   "cell_type": "code",
   "execution_count": 2,
   "id": "5058bf41-b4f5-45a3-9726-2a9ec05adf0e",
   "metadata": {},
   "outputs": [],
   "source": [
    "scene = \"scene1.txt\""
   ]
  },
  {
   "cell_type": "code",
   "execution_count": 3,
   "id": "ce00a0a7-b35b-41c5-9dea-3d1e9a7c3215",
   "metadata": {},
   "outputs": [],
   "source": [
    "scene_url = os.path.join(url, scene)"
   ]
  },
  {
   "cell_type": "code",
   "execution_count": 4,
   "id": "1169fef2-f805-4685-aece-b4e800064aad",
   "metadata": {},
   "outputs": [],
   "source": [
    "r = requests.get(scene_url)"
   ]
  },
  {
   "cell_type": "code",
   "execution_count": 5,
   "id": "0e207760-67ed-41d5-8570-919f9c3dcb63",
   "metadata": {},
   "outputs": [
    {
     "data": {
      "text/plain": [
       "<Response [200]>"
      ]
     },
     "execution_count": 5,
     "metadata": {},
     "output_type": "execute_result"
    }
   ],
   "source": [
    "r"
   ]
  },
  {
   "cell_type": "code",
   "execution_count": 6,
   "id": "8475d8f7-a345-46b9-86c9-b10577f564bf",
   "metadata": {},
   "outputs": [],
   "source": [
    "scene = r.json()"
   ]
  },
  {
   "cell_type": "code",
   "execution_count": 33,
   "id": "58912aac-06a4-4248-b4b1-1f2e845b3a4a",
   "metadata": {},
   "outputs": [
    {
     "data": {
      "text/plain": [
       "{'acquisitionDate': '2013-03-11',\n",
       " 'startTime': '2013-03-11',\n",
       " 'endTime': '2013-03-11',\n",
       " 'lowerLeftCoordinate': {'latitude': 32.50897, 'longitude': -90.64024},\n",
       " 'upperLeftCoordinate': {'latitude': 34.20572, 'longitude': -90.19275},\n",
       " 'upperRightCoordinate': {'latitude': 33.83685, 'longitude': -88.27833},\n",
       " 'lowerRightCoordinate': {'latitude': 32.14512, 'longitude': -88.7621},\n",
       " 'spatialFootprint': {'type': 'Polygon',\n",
       "  'coordinates': [[[-90.64024, 32.50897],\n",
       "    [-88.7621, 32.14512],\n",
       "    [-88.27833, 33.83685],\n",
       "    [-90.19275, 34.20572],\n",
       "    [-90.64024, 32.50897]]]},\n",
       " 'sceneBounds': '-90.64024,32.14512,-88.27833,34.20572',\n",
       " 'browseUrl': 'https://ims.cr.usgs.gov/browse/landsat_8_c1/2013/022/037/LT08_L1GT_022037_20130311_20170310_01_T2.jpg',\n",
       " 'dataAccessUrl': 'https://earthexplorer.usgs.gov/metadata/full/landsat_8_c1/LT80220372013070LGN02/',\n",
       " 'downloadUrl': 'https://earthexplorer.usgs.gov/download/external/options/landsat_8_c1/LT80220372013070LGN02/EE/',\n",
       " 'entityId': 'LT80220372013070LGN02',\n",
       " 'displayId': 'LT08_L1GT_022037_20130311_20170310_01_T2',\n",
       " 'metadataUrl': 'https://earthexplorer.usgs.gov/metadata/full/landsat_8_c1/LT80220372013070LGN02/?responseType=viewXml',\n",
       " 'fgdcMetadataUrl': 'https://earthexplorer.usgs.gov/metadata/fgdc/landsat_8_c1/LT80220372013070LGN02/',\n",
       " 'modifiedDate': '2013-03-11 16:27:39',\n",
       " 'orderUrl': None,\n",
       " 'bulkOrdered': False,\n",
       " 'ordered': False,\n",
       " 'summary': ''}"
      ]
     },
     "execution_count": 33,
     "metadata": {},
     "output_type": "execute_result"
    }
   ],
   "source": [
    "scene "
   ]
  },
  {
   "cell_type": "code",
   "execution_count": 34,
   "id": "032cdd7d-7573-4e74-8daa-cca2ceffc817",
   "metadata": {},
   "outputs": [],
   "source": [
    "download_url = scene[\"downloadUrl\"]\n",
    "d = scene[\"displayId\"]\n",
    "list_d = d.split(\"_\")\n",
    "sensor=list_d[0]\n",
    "pathrow = list_d[2]\n",
    "collection=list_d[5]\n",
    "acq_date = scene[\"acquisitionDate\"]"
   ]
  },
  {
   "cell_type": "code",
   "execution_count": 35,
   "id": "8a5f6fdf-cc0e-4f98-b612-d9438c63c4b0",
   "metadata": {},
   "outputs": [
    {
     "data": {
      "text/plain": [
       "'022037'"
      ]
     },
     "execution_count": 35,
     "metadata": {},
     "output_type": "execute_result"
    }
   ],
   "source": [
    "pathrow"
   ]
  },
  {
   "cell_type": "code",
   "execution_count": 36,
   "id": "b3008b3a-709e-4ba4-bd79-9e855b483226",
   "metadata": {},
   "outputs": [
    {
     "data": {
      "text/plain": [
       "'01'"
      ]
     },
     "execution_count": 36,
     "metadata": {},
     "output_type": "execute_result"
    }
   ],
   "source": [
    "collection"
   ]
  },
  {
   "cell_type": "code",
   "execution_count": 37,
   "id": "8bd0acb9-d6f2-41cf-be58-31e8dd713409",
   "metadata": {},
   "outputs": [
    {
     "data": {
      "text/plain": [
       "'LT08'"
      ]
     },
     "execution_count": 37,
     "metadata": {},
     "output_type": "execute_result"
    }
   ],
   "source": [
    "sensor"
   ]
  },
  {
   "cell_type": "code",
   "execution_count": 38,
   "id": "43dd52a5-9dac-47d9-9bd5-c5c0d0b7621c",
   "metadata": {},
   "outputs": [],
   "source": [
    "coll = Collection.objects.get_or_create(collection_type=collection)\n",
    "pr = PathRow.objects.get_or_create(path_row=pathrow)\n",
    "sen = Sensor.objects.get_or_create(sensor_type=sensor)"
   ]
  },
  {
   "cell_type": "code",
   "execution_count": 39,
   "id": "92be3364-194d-4323-bfb5-00890b9c22da",
   "metadata": {},
   "outputs": [
    {
     "data": {
      "text/plain": [
       "(<Collection: Collection object (1)>, False)"
      ]
     },
     "execution_count": 39,
     "metadata": {},
     "output_type": "execute_result"
    }
   ],
   "source": [
    "coll"
   ]
  },
  {
   "cell_type": "code",
   "execution_count": 40,
   "id": "c1cc0c56-79ed-46c1-8846-bf25f2e6dc2f",
   "metadata": {},
   "outputs": [
    {
     "data": {
      "text/plain": [
       "(<PathRow: PathRow object (2)>, True)"
      ]
     },
     "execution_count": 40,
     "metadata": {},
     "output_type": "execute_result"
    }
   ],
   "source": [
    "pr"
   ]
  },
  {
   "cell_type": "code",
   "execution_count": 41,
   "id": "b15abb0e-3114-4aa8-bc04-f0620529ac51",
   "metadata": {},
   "outputs": [
    {
     "data": {
      "text/plain": [
       "(<Sensor: Sensor object (1)>, False)"
      ]
     },
     "execution_count": 41,
     "metadata": {},
     "output_type": "execute_result"
    }
   ],
   "source": [
    "sen"
   ]
  },
  {
   "cell_type": "markdown",
   "id": "a2f7d403-4244-4500-9cd7-2878d556f0e8",
   "metadata": {},
   "source": [
    "**True was created a new row, False just get the row**"
   ]
  },
  {
   "cell_type": "code",
   "execution_count": 42,
   "id": "976fcffe-8307-465a-b80d-973c11558c7e",
   "metadata": {},
   "outputs": [],
   "source": [
    "coll = coll[0]\n",
    "pr = pr[0]\n",
    "sen = sen[0]"
   ]
  },
  {
   "cell_type": "code",
   "execution_count": 43,
   "id": "30999ca3-818b-4564-93d4-729a6289a73d",
   "metadata": {},
   "outputs": [],
   "source": [
    "#next set default to avoid SynchronousOnlyOperation error:\n",
    "#You cannot call this from an async context - use a thread or sync_to_async.\n",
    "os.environ.setdefault(\"DJANGO_ALLOW_ASYNC_UNSAFE\", \"true\")\n",
    "coll.save()\n",
    "pr.save()\n",
    "sen.save()\n",
    "sen.collection_att.add(coll)"
   ]
  },
  {
   "cell_type": "code",
   "execution_count": 44,
   "id": "37bbd5dc-657f-40e4-9980-fdd18d017193",
   "metadata": {},
   "outputs": [],
   "source": [
    "img = Image(download_url=download_url,\n",
    "            sensor_image_att=sen,\n",
    "            path_row_image_att=pr,\n",
    "            collection_image_att=coll,\n",
    "            acquisition_date=acq_date)"
   ]
  },
  {
   "cell_type": "code",
   "execution_count": 45,
   "id": "dcd96716-b99d-4f46-8265-17cbf8831a93",
   "metadata": {},
   "outputs": [
    {
     "name": "stderr",
     "output_type": "stream",
     "text": [
      "/home/miuser/.local/lib/python3.6/site-packages/django/db/models/fields/__init__.py:1370: RuntimeWarning: DateTimeField Image.acquisition_date received a naive datetime (2013-03-11 00:00:00) while time zone support is active.\n",
      "  RuntimeWarning)\n"
     ]
    }
   ],
   "source": [
    "#next set default to avoid SynchronousOnlyOperation error:\n",
    "#You cannot call this from an async context - use a thread or sync_to_async.\n",
    "os.environ.setdefault(\"DJANGO_ALLOW_ASYNC_UNSAFE\", \"true\")\n",
    "img.save()"
   ]
  },
  {
   "cell_type": "code",
   "execution_count": 46,
   "id": "ca74bf6e-c58d-4fc1-b38f-a2a1c2759917",
   "metadata": {},
   "outputs": [
    {
     "name": "stdout",
     "output_type": "stream",
     "text": [
      "[('django_migrations',), ('sqlite_sequence',), ('auth_group_permissions',), ('auth_user_groups',), ('auth_user_user_permissions',), ('django_admin_log',), ('django_content_type',), ('auth_permission',), ('auth_group',), ('auth_user',), ('django_session',), ('satellital_images_collection',), ('satellital_images_sensor',), ('satellital_images_sensor_collection_att',), ('satellital_images_image',), ('satellital_images_pathrow',)]\n"
     ]
    }
   ],
   "source": [
    "connection = sqlite3.connect(\"db.sqlite3\")\n",
    "cursor = connection.cursor()\n",
    "\n",
    "cursor.execute(\"SELECT name FROM sqlite_master WHERE type='table';\")\n",
    "\n",
    "print(cursor.fetchall())"
   ]
  },
  {
   "cell_type": "markdown",
   "id": "9db2676a-15c1-4fc4-93dc-c04ca2e23b3c",
   "metadata": {},
   "source": [
    "**Next just to check, normally is not necessary to execute:**"
   ]
  },
  {
   "cell_type": "code",
   "execution_count": 47,
   "id": "7dc0ca5b-b5f9-4315-ac21-4e51da519edf",
   "metadata": {},
   "outputs": [
    {
     "name": "stdout",
     "output_type": "stream",
     "text": [
      "[(1, 'https://earthexplorer.usgs.gov/download/external/options/landsat_8_c1/LT80320382013069LGN02/EE/', '2013-03-10 00:00:00', 1, 1, 1), (2, 'https://earthexplorer.usgs.gov/download/external/options/landsat_8_c1/LT80220372013070LGN02/EE/', '2013-03-11 00:00:00', 1, 2, 1)]\n"
     ]
    }
   ],
   "source": [
    "rows = cursor.execute(\"SELECT * FROM satellital_images_image\").fetchall()\n",
    "print(rows)"
   ]
  },
  {
   "cell_type": "code",
   "execution_count": 48,
   "id": "67a27ed7-2c6d-4b33-93bd-5b7c0b881616",
   "metadata": {},
   "outputs": [
    {
     "name": "stdout",
     "output_type": "stream",
     "text": [
      "[(1, '01')]\n"
     ]
    }
   ],
   "source": [
    "rows = cursor.execute(\"SELECT * FROM satellital_images_collection\").fetchall()\n",
    "print(rows)"
   ]
  },
  {
   "cell_type": "code",
   "execution_count": 49,
   "id": "9962e330-e5f9-49b3-9adb-55e6f06fdbbd",
   "metadata": {},
   "outputs": [
    {
     "name": "stdout",
     "output_type": "stream",
     "text": [
      "[(1, 'LT08')]\n"
     ]
    }
   ],
   "source": [
    "rows = cursor.execute(\"SELECT * FROM satellital_images_sensor\").fetchall()\n",
    "print(rows)"
   ]
  },
  {
   "cell_type": "code",
   "execution_count": 50,
   "id": "6b790d4f-74a1-471a-8d58-959b847ac99e",
   "metadata": {},
   "outputs": [
    {
     "name": "stdout",
     "output_type": "stream",
     "text": [
      "[(1, 1, 1)]\n"
     ]
    }
   ],
   "source": [
    "rows = cursor.execute(\"SELECT * FROM satellital_images_sensor_collection_att\").fetchall()\n",
    "print(rows)"
   ]
  },
  {
   "cell_type": "code",
   "execution_count": 51,
   "id": "2225301e-40ab-4234-8be7-34e5d3d235c4",
   "metadata": {},
   "outputs": [
    {
     "name": "stdout",
     "output_type": "stream",
     "text": [
      "[(1, '32038'), (2, '22037')]\n"
     ]
    }
   ],
   "source": [
    "rows = cursor.execute(\"SELECT * FROM satellital_images_pathrow\").fetchall()\n",
    "print(rows)"
   ]
  }
 ],
 "metadata": {
  "kernelspec": {
   "display_name": "Python 3",
   "language": "python",
   "name": "python3"
  },
  "language_info": {
   "codemirror_mode": {
    "name": "ipython",
    "version": 3
   },
   "file_extension": ".py",
   "mimetype": "text/x-python",
   "name": "python",
   "nbconvert_exporter": "python",
   "pygments_lexer": "ipython3",
   "version": "3.8.5"
  }
 },
 "nbformat": 4,
 "nbformat_minor": 5
}
