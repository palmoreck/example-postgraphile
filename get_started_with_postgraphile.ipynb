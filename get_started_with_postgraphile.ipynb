{
 "cells": [
  {
   "cell_type": "markdown",
   "id": "e1932c44",
   "metadata": {},
   "source": [
    "Need to create next docker image..."
   ]
  },
  {
   "cell_type": "markdown",
   "id": "0ea7eabb",
   "metadata": {},
   "source": [
    "# Docker:"
   ]
  },
  {
   "cell_type": "markdown",
   "id": "ed24e030",
   "metadata": {},
   "source": [
    "```bash\n",
    "\n",
    "docker run --rm -d -v $(pwd):/datos --name jupyterlab_postgraphile -p 8000:8000 -p 8989:8888 palmoreck/postgraphile:3.0.16\n",
    "\n",
    "```"
   ]
  },
  {
   "cell_type": "markdown",
   "id": "d0f661af",
   "metadata": {},
   "source": [
    "# Example with django and postgreSQL-postgis"
   ]
  },
  {
   "cell_type": "markdown",
   "id": "a8bf6b42",
   "metadata": {},
   "source": [
    "using https://github.com/palmoreck/example-django/blob/main/get_started_with_django_part2.ipynb"
   ]
  },
  {
   "cell_type": "code",
   "execution_count": 1,
   "id": "f036d0f3",
   "metadata": {},
   "outputs": [
    {
     "name": "stdout",
     "output_type": "stream",
     "text": [
      "Operations to perform:\n",
      "  Apply all migrations: admin, auth, contenttypes, sessions\n",
      "Running migrations:\n",
      "  Applying contenttypes.0001_initial... OK\n",
      "  Applying auth.0001_initial... OK\n",
      "  Applying admin.0001_initial... OK\n",
      "  Applying admin.0002_logentry_remove_auto_add... OK\n",
      "  Applying admin.0003_logentry_add_action_flag_choices... OK\n",
      "  Applying contenttypes.0002_remove_content_type_name... OK\n",
      "  Applying auth.0002_alter_permission_name_max_length... OK\n",
      "  Applying auth.0003_alter_user_email_max_length... OK\n",
      "  Applying auth.0004_alter_user_username_opts... OK\n",
      "  Applying auth.0005_alter_user_last_login_null... OK\n",
      "  Applying auth.0006_require_contenttypes_0002... OK\n",
      "  Applying auth.0007_alter_validators_add_error_messages... OK\n",
      "  Applying auth.0008_alter_user_username_max_length... OK\n",
      "  Applying auth.0009_alter_user_last_name_max_length... OK\n",
      "  Applying auth.0010_alter_group_name_max_length... OK\n",
      "  Applying auth.0011_update_proxy_permissions... OK\n",
      "  Applying auth.0012_alter_user_first_name_max_length... OK\n",
      "  Applying sessions.0001_initial... OK\n"
     ]
    }
   ],
   "source": [
    "%%bash\n",
    "name_django_proj=mydjangoproj\n",
    "\n",
    "cd $HOME/\n",
    "mkdir myproj\n",
    "cd $HOME/myproj\n",
    "/home/miuser/.local/bin/django-admin startproject $name_django_proj\n",
    "\n",
    "mv $name_django_proj/manage.py ./\n",
    "mv $name_django_proj/$name_django_proj/* $name_django_proj\n",
    "rm -r $name_django_proj/$name_django_proj/\n",
    "\n",
    "python3 manage.py migrate #if run it will create db.sqlite3 file\n"
   ]
  },
  {
   "cell_type": "code",
   "execution_count": 2,
   "id": "30ab741a",
   "metadata": {},
   "outputs": [],
   "source": [
    "%%bash\n",
    "cd $HOME/myproj\n",
    "python3 manage.py startapp satellital_images"
   ]
  },
  {
   "cell_type": "code",
   "execution_count": 3,
   "id": "8c3d3078",
   "metadata": {},
   "outputs": [],
   "source": [
    "%%bash\n",
    "file=$HOME/myproj/mydjangoproj/settings.py\n",
    "sed -i \"/'django.contrib.staticfiles',/a \\ \\ \\ \\ 'satellital_images',\" $file"
   ]
  },
  {
   "cell_type": "code",
   "execution_count": 4,
   "id": "cebd5ae7",
   "metadata": {},
   "outputs": [],
   "source": [
    "%%bash\n",
    "file=$HOME/myproj/mydjangoproj/settings.py\n",
    "sed -i \"s/'ENGINE': 'django.db.backends.sqlite3',/'ENGINE': 'django.db.backends.postgresql',/\" $file\n",
    "sed -i \"s/'NAME': BASE_DIR \\/ 'db.sqlite3',/'NAME': 'postgres',/\" $file\n",
    "sed -i \"/'NAME': 'postgres',/a \\ \\ \\ \\ \\ \\ \\ \\ 'USER': 'postgres',\" $file\n",
    "sed -i \"/'USER': 'postgres',/a \\ \\ \\ \\ \\ \\ \\ \\ 'PASSWORD': 'postgres',\" $file\n",
    "sed -i \"/'PASSWORD': 'postgres',/a \\ \\ \\ \\ \\ \\ \\ \\ 'HOST': '172.17.0.1',\" $file\n",
    "sed -i \"/'HOST': '172.17.0.1',/a \\ \\ \\ \\ \\ \\ \\ \\ 'PORT': '5432',\" $file"
   ]
  },
  {
   "cell_type": "code",
   "execution_count": 6,
   "id": "2d005041",
   "metadata": {},
   "outputs": [],
   "source": [
    "import os"
   ]
  },
  {
   "cell_type": "code",
   "execution_count": 7,
   "id": "9d3d440b",
   "metadata": {},
   "outputs": [
    {
     "name": "stdout",
     "output_type": "stream",
     "text": [
      "Overwriting /home/miuser/myproj/satellital_images/models.py\n"
     ]
    }
   ],
   "source": [
    "%%file {os.environ[\"HOME\"]}/myproj/satellital_images/models.py\n",
    "from django.contrib.gis.db import models\n",
    "\n",
    "class Collection(models.Model):\n",
    "    collection_type = models.CharField(unique=True, max_length=5)\n",
    "\n",
    "class Sensor(models.Model):\n",
    "    sensor_type = models.CharField(unique=True, max_length=10)\n",
    "    collection_att = models.ManyToManyField(\"Collection\")\n",
    "\n",
    "class PathRow(models.Model):\n",
    "    path_row = models.IntegerField(unique=True)\n",
    "    \n",
    "class Image(models.Model):\n",
    "    download_url = models.CharField(max_length=200, default=None)\n",
    "    sensor_image_att = models.ForeignKey(Sensor, related_name=\"sensor_images\", on_delete=models.CASCADE)\n",
    "    path_row_image_att = models.ForeignKey(PathRow, related_name=\"pathrow_images\", on_delete=models.CASCADE)\n",
    "    collection_image_att = models.ForeignKey(Collection, related_name=\"collection_images\", on_delete=models.CASCADE)\n",
    "    acquisition_date = models.DateTimeField()\n",
    "    footprint = models.PolygonField()"
   ]
  },
  {
   "cell_type": "markdown",
   "id": "45ca1b8e",
   "metadata": {},
   "source": [
    "**include img of DB**"
   ]
  },
  {
   "cell_type": "code",
   "execution_count": 8,
   "id": "d57af28c",
   "metadata": {},
   "outputs": [
    {
     "name": "stderr",
     "output_type": "stream",
     "text": [
      "Traceback (most recent call last):\n",
      "  File \"manage.py\", line 22, in <module>\n",
      "    main()\n",
      "  File \"manage.py\", line 18, in main\n",
      "    execute_from_command_line(sys.argv)\n",
      "  File \"/home/miuser/.local/lib/python3.6/site-packages/django/core/management/__init__.py\", line 401, in execute_from_command_line\n",
      "    utility.execute()\n",
      "  File \"/home/miuser/.local/lib/python3.6/site-packages/django/core/management/__init__.py\", line 377, in execute\n",
      "    django.setup()\n",
      "  File \"/home/miuser/.local/lib/python3.6/site-packages/django/__init__.py\", line 24, in setup\n",
      "    apps.populate(settings.INSTALLED_APPS)\n",
      "  File \"/home/miuser/.local/lib/python3.6/site-packages/django/apps/registry.py\", line 114, in populate\n",
      "    app_config.import_models()\n",
      "  File \"/home/miuser/.local/lib/python3.6/site-packages/django/apps/config.py\", line 211, in import_models\n",
      "    self.models_module = import_module(models_module_name)\n",
      "  File \"/usr/lib/python3.6/importlib/__init__.py\", line 126, in import_module\n",
      "    return _bootstrap._gcd_import(name[level:], package, level)\n",
      "  File \"<frozen importlib._bootstrap>\", line 994, in _gcd_import\n",
      "  File \"<frozen importlib._bootstrap>\", line 971, in _find_and_load\n",
      "  File \"<frozen importlib._bootstrap>\", line 955, in _find_and_load_unlocked\n",
      "  File \"<frozen importlib._bootstrap>\", line 665, in _load_unlocked\n",
      "  File \"<frozen importlib._bootstrap_external>\", line 678, in exec_module\n",
      "  File \"<frozen importlib._bootstrap>\", line 219, in _call_with_frames_removed\n",
      "  File \"/home/miuser/myproj/satellital_images/models.py\", line 1, in <module>\n",
      "    from django.contrib.gis.db import models\n",
      "  File \"/home/miuser/.local/lib/python3.6/site-packages/django/contrib/gis/db/models/__init__.py\", line 3, in <module>\n",
      "    import django.contrib.gis.db.models.functions  # NOQA\n",
      "  File \"/home/miuser/.local/lib/python3.6/site-packages/django/contrib/gis/db/models/functions.py\", line 3, in <module>\n",
      "    from django.contrib.gis.db.models.fields import BaseSpatialField, GeometryField\n",
      "  File \"/home/miuser/.local/lib/python3.6/site-packages/django/contrib/gis/db/models/fields.py\", line 3, in <module>\n",
      "    from django.contrib.gis import forms, gdal\n",
      "  File \"/home/miuser/.local/lib/python3.6/site-packages/django/contrib/gis/forms/__init__.py\", line 3, in <module>\n",
      "    from .fields import (  # NOQA\n",
      "  File \"/home/miuser/.local/lib/python3.6/site-packages/django/contrib/gis/forms/fields.py\", line 2, in <module>\n",
      "    from django.contrib.gis.gdal import GDALException\n",
      "  File \"/home/miuser/.local/lib/python3.6/site-packages/django/contrib/gis/gdal/__init__.py\", line 28, in <module>\n",
      "    from django.contrib.gis.gdal.datasource import DataSource\n",
      "  File \"/home/miuser/.local/lib/python3.6/site-packages/django/contrib/gis/gdal/datasource.py\", line 39, in <module>\n",
      "    from django.contrib.gis.gdal.driver import Driver\n",
      "  File \"/home/miuser/.local/lib/python3.6/site-packages/django/contrib/gis/gdal/driver.py\", line 5, in <module>\n",
      "    from django.contrib.gis.gdal.prototypes import ds as vcapi, raster as rcapi\n",
      "  File \"/home/miuser/.local/lib/python3.6/site-packages/django/contrib/gis/gdal/prototypes/ds.py\", line 9, in <module>\n",
      "    from django.contrib.gis.gdal.libgdal import GDAL_VERSION, lgdal\n",
      "  File \"/home/miuser/.local/lib/python3.6/site-packages/django/contrib/gis/gdal/libgdal.py\", line 46, in <module>\n",
      "    % '\", \"'.join(lib_names)\n",
      "django.core.exceptions.ImproperlyConfigured: Could not find the GDAL library (tried \"gdal\", \"GDAL\", \"gdal3.1.0\", \"gdal3.0.0\", \"gdal2.4.0\", \"gdal2.3.0\", \"gdal2.2.0\", \"gdal2.1.0\", \"gdal2.0.0\"). Is GDAL installed? If it is, try setting GDAL_LIBRARY_PATH in your settings.\n"
     ]
    },
    {
     "ename": "CalledProcessError",
     "evalue": "Command 'b'\\ncd $HOME/myproj\\n\\npython3 manage.py makemigrations \\n\\n#python3 manage.py makemigrations satellital_images\\n'' returned non-zero exit status 1.",
     "output_type": "error",
     "traceback": [
      "\u001b[0;31m---------------------------------------------------------------------------\u001b[0m",
      "\u001b[0;31mCalledProcessError\u001b[0m                        Traceback (most recent call last)",
      "\u001b[0;32m<ipython-input-8-b20e6e53e598>\u001b[0m in \u001b[0;36m<module>\u001b[0;34m\u001b[0m\n\u001b[0;32m----> 1\u001b[0;31m \u001b[0mget_ipython\u001b[0m\u001b[0;34m(\u001b[0m\u001b[0;34m)\u001b[0m\u001b[0;34m.\u001b[0m\u001b[0mrun_cell_magic\u001b[0m\u001b[0;34m(\u001b[0m\u001b[0;34m'bash'\u001b[0m\u001b[0;34m,\u001b[0m \u001b[0;34m''\u001b[0m\u001b[0;34m,\u001b[0m \u001b[0;34m'\\ncd $HOME/myproj\\n\\npython3 manage.py makemigrations \\n\\n#python3 manage.py makemigrations satellital_images\\n'\u001b[0m\u001b[0;34m)\u001b[0m\u001b[0;34m\u001b[0m\u001b[0;34m\u001b[0m\u001b[0m\n\u001b[0m",
      "\u001b[0;32m/usr/local/lib/python3.6/dist-packages/IPython/core/interactiveshell.py\u001b[0m in \u001b[0;36mrun_cell_magic\u001b[0;34m(self, magic_name, line, cell)\u001b[0m\n\u001b[1;32m   2369\u001b[0m             \u001b[0;32mwith\u001b[0m \u001b[0mself\u001b[0m\u001b[0;34m.\u001b[0m\u001b[0mbuiltin_trap\u001b[0m\u001b[0;34m:\u001b[0m\u001b[0;34m\u001b[0m\u001b[0;34m\u001b[0m\u001b[0m\n\u001b[1;32m   2370\u001b[0m                 \u001b[0margs\u001b[0m \u001b[0;34m=\u001b[0m \u001b[0;34m(\u001b[0m\u001b[0mmagic_arg_s\u001b[0m\u001b[0;34m,\u001b[0m \u001b[0mcell\u001b[0m\u001b[0;34m)\u001b[0m\u001b[0;34m\u001b[0m\u001b[0;34m\u001b[0m\u001b[0m\n\u001b[0;32m-> 2371\u001b[0;31m                 \u001b[0mresult\u001b[0m \u001b[0;34m=\u001b[0m \u001b[0mfn\u001b[0m\u001b[0;34m(\u001b[0m\u001b[0;34m*\u001b[0m\u001b[0margs\u001b[0m\u001b[0;34m,\u001b[0m \u001b[0;34m**\u001b[0m\u001b[0mkwargs\u001b[0m\u001b[0;34m)\u001b[0m\u001b[0;34m\u001b[0m\u001b[0;34m\u001b[0m\u001b[0m\n\u001b[0m\u001b[1;32m   2372\u001b[0m             \u001b[0;32mreturn\u001b[0m \u001b[0mresult\u001b[0m\u001b[0;34m\u001b[0m\u001b[0;34m\u001b[0m\u001b[0m\n\u001b[1;32m   2373\u001b[0m \u001b[0;34m\u001b[0m\u001b[0m\n",
      "\u001b[0;32m/usr/local/lib/python3.6/dist-packages/IPython/core/magics/script.py\u001b[0m in \u001b[0;36mnamed_script_magic\u001b[0;34m(line, cell)\u001b[0m\n\u001b[1;32m    140\u001b[0m             \u001b[0;32melse\u001b[0m\u001b[0;34m:\u001b[0m\u001b[0;34m\u001b[0m\u001b[0;34m\u001b[0m\u001b[0m\n\u001b[1;32m    141\u001b[0m                 \u001b[0mline\u001b[0m \u001b[0;34m=\u001b[0m \u001b[0mscript\u001b[0m\u001b[0;34m\u001b[0m\u001b[0;34m\u001b[0m\u001b[0m\n\u001b[0;32m--> 142\u001b[0;31m             \u001b[0;32mreturn\u001b[0m \u001b[0mself\u001b[0m\u001b[0;34m.\u001b[0m\u001b[0mshebang\u001b[0m\u001b[0;34m(\u001b[0m\u001b[0mline\u001b[0m\u001b[0;34m,\u001b[0m \u001b[0mcell\u001b[0m\u001b[0;34m)\u001b[0m\u001b[0;34m\u001b[0m\u001b[0;34m\u001b[0m\u001b[0m\n\u001b[0m\u001b[1;32m    143\u001b[0m \u001b[0;34m\u001b[0m\u001b[0m\n\u001b[1;32m    144\u001b[0m         \u001b[0;31m# write a basic docstring:\u001b[0m\u001b[0;34m\u001b[0m\u001b[0;34m\u001b[0m\u001b[0;34m\u001b[0m\u001b[0m\n",
      "\u001b[0;32m/usr/local/lib/python3.6/dist-packages/decorator.py\u001b[0m in \u001b[0;36mfun\u001b[0;34m(*args, **kw)\u001b[0m\n\u001b[1;32m    230\u001b[0m             \u001b[0;32mif\u001b[0m \u001b[0;32mnot\u001b[0m \u001b[0mkwsyntax\u001b[0m\u001b[0;34m:\u001b[0m\u001b[0;34m\u001b[0m\u001b[0;34m\u001b[0m\u001b[0m\n\u001b[1;32m    231\u001b[0m                 \u001b[0margs\u001b[0m\u001b[0;34m,\u001b[0m \u001b[0mkw\u001b[0m \u001b[0;34m=\u001b[0m \u001b[0mfix\u001b[0m\u001b[0;34m(\u001b[0m\u001b[0margs\u001b[0m\u001b[0;34m,\u001b[0m \u001b[0mkw\u001b[0m\u001b[0;34m,\u001b[0m \u001b[0msig\u001b[0m\u001b[0;34m)\u001b[0m\u001b[0;34m\u001b[0m\u001b[0;34m\u001b[0m\u001b[0m\n\u001b[0;32m--> 232\u001b[0;31m             \u001b[0;32mreturn\u001b[0m \u001b[0mcaller\u001b[0m\u001b[0;34m(\u001b[0m\u001b[0mfunc\u001b[0m\u001b[0;34m,\u001b[0m \u001b[0;34m*\u001b[0m\u001b[0;34m(\u001b[0m\u001b[0mextras\u001b[0m \u001b[0;34m+\u001b[0m \u001b[0margs\u001b[0m\u001b[0;34m)\u001b[0m\u001b[0;34m,\u001b[0m \u001b[0;34m**\u001b[0m\u001b[0mkw\u001b[0m\u001b[0;34m)\u001b[0m\u001b[0;34m\u001b[0m\u001b[0;34m\u001b[0m\u001b[0m\n\u001b[0m\u001b[1;32m    233\u001b[0m     \u001b[0mfun\u001b[0m\u001b[0;34m.\u001b[0m\u001b[0m__name__\u001b[0m \u001b[0;34m=\u001b[0m \u001b[0mfunc\u001b[0m\u001b[0;34m.\u001b[0m\u001b[0m__name__\u001b[0m\u001b[0;34m\u001b[0m\u001b[0;34m\u001b[0m\u001b[0m\n\u001b[1;32m    234\u001b[0m     \u001b[0mfun\u001b[0m\u001b[0;34m.\u001b[0m\u001b[0m__signature__\u001b[0m \u001b[0;34m=\u001b[0m \u001b[0msig\u001b[0m\u001b[0;34m\u001b[0m\u001b[0;34m\u001b[0m\u001b[0m\n",
      "\u001b[0;32m/usr/local/lib/python3.6/dist-packages/IPython/core/magic.py\u001b[0m in \u001b[0;36m<lambda>\u001b[0;34m(f, *a, **k)\u001b[0m\n\u001b[1;32m    185\u001b[0m     \u001b[0;31m# but it's overkill for just that one bit of state.\u001b[0m\u001b[0;34m\u001b[0m\u001b[0;34m\u001b[0m\u001b[0;34m\u001b[0m\u001b[0m\n\u001b[1;32m    186\u001b[0m     \u001b[0;32mdef\u001b[0m \u001b[0mmagic_deco\u001b[0m\u001b[0;34m(\u001b[0m\u001b[0marg\u001b[0m\u001b[0;34m)\u001b[0m\u001b[0;34m:\u001b[0m\u001b[0;34m\u001b[0m\u001b[0;34m\u001b[0m\u001b[0m\n\u001b[0;32m--> 187\u001b[0;31m         \u001b[0mcall\u001b[0m \u001b[0;34m=\u001b[0m \u001b[0;32mlambda\u001b[0m \u001b[0mf\u001b[0m\u001b[0;34m,\u001b[0m \u001b[0;34m*\u001b[0m\u001b[0ma\u001b[0m\u001b[0;34m,\u001b[0m \u001b[0;34m**\u001b[0m\u001b[0mk\u001b[0m\u001b[0;34m:\u001b[0m \u001b[0mf\u001b[0m\u001b[0;34m(\u001b[0m\u001b[0;34m*\u001b[0m\u001b[0ma\u001b[0m\u001b[0;34m,\u001b[0m \u001b[0;34m**\u001b[0m\u001b[0mk\u001b[0m\u001b[0;34m)\u001b[0m\u001b[0;34m\u001b[0m\u001b[0;34m\u001b[0m\u001b[0m\n\u001b[0m\u001b[1;32m    188\u001b[0m \u001b[0;34m\u001b[0m\u001b[0m\n\u001b[1;32m    189\u001b[0m         \u001b[0;32mif\u001b[0m \u001b[0mcallable\u001b[0m\u001b[0;34m(\u001b[0m\u001b[0marg\u001b[0m\u001b[0;34m)\u001b[0m\u001b[0;34m:\u001b[0m\u001b[0;34m\u001b[0m\u001b[0;34m\u001b[0m\u001b[0m\n",
      "\u001b[0;32m/usr/local/lib/python3.6/dist-packages/IPython/core/magics/script.py\u001b[0m in \u001b[0;36mshebang\u001b[0;34m(self, line, cell)\u001b[0m\n\u001b[1;32m    243\u001b[0m             \u001b[0msys\u001b[0m\u001b[0;34m.\u001b[0m\u001b[0mstderr\u001b[0m\u001b[0;34m.\u001b[0m\u001b[0mflush\u001b[0m\u001b[0;34m(\u001b[0m\u001b[0;34m)\u001b[0m\u001b[0;34m\u001b[0m\u001b[0;34m\u001b[0m\u001b[0m\n\u001b[1;32m    244\u001b[0m         \u001b[0;32mif\u001b[0m \u001b[0margs\u001b[0m\u001b[0;34m.\u001b[0m\u001b[0mraise_error\u001b[0m \u001b[0;32mand\u001b[0m \u001b[0mp\u001b[0m\u001b[0;34m.\u001b[0m\u001b[0mreturncode\u001b[0m\u001b[0;34m!=\u001b[0m\u001b[0;36m0\u001b[0m\u001b[0;34m:\u001b[0m\u001b[0;34m\u001b[0m\u001b[0;34m\u001b[0m\u001b[0m\n\u001b[0;32m--> 245\u001b[0;31m             \u001b[0;32mraise\u001b[0m \u001b[0mCalledProcessError\u001b[0m\u001b[0;34m(\u001b[0m\u001b[0mp\u001b[0m\u001b[0;34m.\u001b[0m\u001b[0mreturncode\u001b[0m\u001b[0;34m,\u001b[0m \u001b[0mcell\u001b[0m\u001b[0;34m,\u001b[0m \u001b[0moutput\u001b[0m\u001b[0;34m=\u001b[0m\u001b[0mout\u001b[0m\u001b[0;34m,\u001b[0m \u001b[0mstderr\u001b[0m\u001b[0;34m=\u001b[0m\u001b[0merr\u001b[0m\u001b[0;34m)\u001b[0m\u001b[0;34m\u001b[0m\u001b[0;34m\u001b[0m\u001b[0m\n\u001b[0m\u001b[1;32m    246\u001b[0m \u001b[0;34m\u001b[0m\u001b[0m\n\u001b[1;32m    247\u001b[0m     \u001b[0;32mdef\u001b[0m \u001b[0m_run_script\u001b[0m\u001b[0;34m(\u001b[0m\u001b[0mself\u001b[0m\u001b[0;34m,\u001b[0m \u001b[0mp\u001b[0m\u001b[0;34m,\u001b[0m \u001b[0mcell\u001b[0m\u001b[0;34m,\u001b[0m \u001b[0mto_close\u001b[0m\u001b[0;34m)\u001b[0m\u001b[0;34m:\u001b[0m\u001b[0;34m\u001b[0m\u001b[0;34m\u001b[0m\u001b[0m\n",
      "\u001b[0;31mCalledProcessError\u001b[0m: Command 'b'\\ncd $HOME/myproj\\n\\npython3 manage.py makemigrations \\n\\n#python3 manage.py makemigrations satellital_images\\n'' returned non-zero exit status 1."
     ]
    }
   ],
   "source": [
    "%%bash\n",
    "\n",
    "cd $HOME/myproj\n",
    "\n",
    "python3 manage.py makemigrations \n",
    "\n",
    "#python3 manage.py makemigrations satellital_images"
   ]
  },
  {
   "cell_type": "code",
   "execution_count": 7,
   "id": "ee82434f",
   "metadata": {},
   "outputs": [
    {
     "name": "stdout",
     "output_type": "stream",
     "text": [
      "Operations to perform:\n",
      "  Apply all migrations: admin, auth, contenttypes, satellital_images, sessions\n",
      "Running migrations:\n",
      "  Applying satellital_images.0001_initial... OK\n"
     ]
    }
   ],
   "source": [
    "%%bash\n",
    "\n",
    "cd $HOME/myproj/\n",
    "\n",
    "python3 manage.py migrate"
   ]
  },
  {
   "cell_type": "markdown",
   "id": "2cda794a",
   "metadata": {},
   "source": [
    "**Cmd to see query in sql: python3 manage.py sqlmigrate satellital_images 0001_initial.py**"
   ]
  },
  {
   "cell_type": "code",
   "execution_count": 8,
   "id": "da3c8b69",
   "metadata": {},
   "outputs": [],
   "source": [
    "direc = \"/home/miuser\"\n",
    "dir_json_scenes = os.path.join(os.getcwd(), \"metadata_scenes_downloaded\")\n",
    "direc_myproj = os.path.join(direc, \"myproj\")"
   ]
  },
  {
   "cell_type": "code",
   "execution_count": 9,
   "id": "4ec70700",
   "metadata": {},
   "outputs": [],
   "source": [
    "os.chdir(direc_myproj)\n",
    "os.environ.setdefault(\"DJANGO_SETTINGS_MODULE\", \"mydjangoproj.settings\")\n",
    "import django\n",
    "django.setup()\n",
    "from satellital_images.models import Collection, PathRow, Sensor"
   ]
  },
  {
   "cell_type": "code",
   "execution_count": 1,
   "id": "16d5af01",
   "metadata": {},
   "outputs": [],
   "source": [
    "import requests"
   ]
  },
  {
   "cell_type": "code",
   "execution_count": 2,
   "id": "23b2d301",
   "metadata": {},
   "outputs": [],
   "source": [
    "url = \"https://raw.githubusercontent.com/palmoreck/example-django/main/metadata_scenes_downloaded/\"\n",
    "\n",
    "scene = \"scene0.txt\""
   ]
  },
  {
   "cell_type": "code",
   "execution_count": 3,
   "id": "f1a0e6a0",
   "metadata": {},
   "outputs": [],
   "source": [
    "scene_url = os.path.join(url, scene)"
   ]
  },
  {
   "cell_type": "code",
   "execution_count": 4,
   "id": "f57116ed",
   "metadata": {},
   "outputs": [],
   "source": [
    "r = requests.get(scene_url)"
   ]
  },
  {
   "cell_type": "code",
   "execution_count": 6,
   "id": "d24f77a5",
   "metadata": {},
   "outputs": [],
   "source": [
    "scene = r.json()"
   ]
  },
  {
   "cell_type": "code",
   "execution_count": null,
   "id": "78b17513",
   "metadata": {},
   "outputs": [],
   "source": [
    "scene"
   ]
  },
  {
   "cell_type": "code",
   "execution_count": 8,
   "id": "700c9d93",
   "metadata": {},
   "outputs": [],
   "source": [
    "download_url = scene[\"downloadUrl\"]\n",
    "d = scene[\"displayId\"]\n",
    "list_d = d.split(\"_\")\n",
    "sensor=list_d[0]\n",
    "pathrow = list_d[2]\n",
    "collection=list_d[5]\n",
    "acq_date = scene[\"acquisitionDate\"]"
   ]
  },
  {
   "cell_type": "code",
   "execution_count": 17,
   "id": "89c1e0ae",
   "metadata": {},
   "outputs": [],
   "source": [
    "coll = Collection(collection_type=collection)\n",
    "pr = PathRow(path_row=pathrow)\n",
    "sen = Sensor(sensor_type=sensor)"
   ]
  },
  {
   "cell_type": "code",
   "execution_count": 18,
   "id": "347788f7",
   "metadata": {},
   "outputs": [],
   "source": [
    "#next set default to avoid SynchronousOnlyOperation error:\n",
    "#You cannot call this from an async context - use a thread or sync_to_async.\n",
    "os.environ.setdefault(\"DJANGO_ALLOW_ASYNC_UNSAFE\", \"true\")\n",
    "coll.save()\n",
    "pr.save()\n",
    "sen.save()\n",
    "sen.collection_att.add(coll)"
   ]
  },
  {
   "cell_type": "code",
   "execution_count": 19,
   "id": "0bcb0959",
   "metadata": {},
   "outputs": [],
   "source": [
    "from satellital_images.models import Image"
   ]
  },
  {
   "cell_type": "code",
   "execution_count": 20,
   "id": "f991412e",
   "metadata": {},
   "outputs": [],
   "source": [
    "img = Image(download_url=download_url,\n",
    "            sensor_image_att=sen,\n",
    "            path_row_image_att=pr,\n",
    "            collection_image_att=coll,\n",
    "            acquisition_date=acq_date)"
   ]
  },
  {
   "cell_type": "code",
   "execution_count": 21,
   "id": "4eb65c0e",
   "metadata": {},
   "outputs": [
    {
     "name": "stderr",
     "output_type": "stream",
     "text": [
      "/home/miuser/.local/lib/python3.6/site-packages/django/db/models/fields/__init__.py:1370: RuntimeWarning: DateTimeField Image.acquisition_date received a naive datetime (2013-03-10 00:00:00) while time zone support is active.\n",
      "  RuntimeWarning)\n"
     ]
    }
   ],
   "source": [
    "#next set default to avoid SynchronousOnlyOperation error:\n",
    "#You cannot call this from an async context - use a thread or sync_to_async.\n",
    "os.environ.setdefault(\"DJANGO_ALLOW_ASYNC_UNSAFE\", \"true\")\n",
    "img.save()"
   ]
  },
  {
   "cell_type": "code",
   "execution_count": 22,
   "id": "c5ad6372",
   "metadata": {},
   "outputs": [
    {
     "name": "stdout",
     "output_type": "stream",
     "text": [
      "[('django_migrations',), ('sqlite_sequence',), ('auth_group_permissions',), ('auth_user_groups',), ('auth_user_user_permissions',), ('django_admin_log',), ('django_content_type',), ('auth_permission',), ('auth_group',), ('auth_user',), ('django_session',), ('satellital_images_collection',), ('satellital_images_pathrow',), ('satellital_images_sensor',), ('satellital_images_sensor_collection_att',), ('satellital_images_image',)]\n"
     ]
    }
   ],
   "source": [
    "import sqlite3\n",
    "\n",
    "connection = sqlite3.connect(\"db.sqlite3\")\n",
    "cursor = connection.cursor()\n",
    "\n",
    "cursor.execute(\"SELECT name FROM sqlite_master WHERE type='table';\")\n",
    "\n",
    "print(cursor.fetchall())"
   ]
  },
  {
   "cell_type": "markdown",
   "id": "1225f9b5",
   "metadata": {},
   "source": [
    "**Next just to check, normally is not necessary to execute:**"
   ]
  },
  {
   "cell_type": "code",
   "execution_count": 23,
   "id": "e02013d1",
   "metadata": {},
   "outputs": [
    {
     "name": "stdout",
     "output_type": "stream",
     "text": [
      "[(1, 'https://earthexplorer.usgs.gov/download/external/options/landsat_8_c1/LT80320382013069LGN02/EE/', '2013-03-10 00:00:00', 1, 1, 1)]\n"
     ]
    }
   ],
   "source": [
    "rows = cursor.execute(\"SELECT * FROM satellital_images_image\").fetchall()\n",
    "print(rows)"
   ]
  },
  {
   "cell_type": "code",
   "execution_count": 24,
   "id": "4255fcaf",
   "metadata": {},
   "outputs": [
    {
     "name": "stdout",
     "output_type": "stream",
     "text": [
      "[(1, '01')]\n"
     ]
    }
   ],
   "source": [
    "rows = cursor.execute(\"SELECT * FROM satellital_images_collection\").fetchall()\n",
    "print(rows)"
   ]
  },
  {
   "cell_type": "code",
   "execution_count": 25,
   "id": "c2842a5c",
   "metadata": {},
   "outputs": [
    {
     "name": "stdout",
     "output_type": "stream",
     "text": [
      "[(1, 'LT08')]\n"
     ]
    }
   ],
   "source": [
    "rows = cursor.execute(\"SELECT * FROM satellital_images_sensor\").fetchall()\n",
    "print(rows)"
   ]
  },
  {
   "cell_type": "code",
   "execution_count": 26,
   "id": "dde886ca",
   "metadata": {},
   "outputs": [
    {
     "name": "stdout",
     "output_type": "stream",
     "text": [
      "[(1, 1, 1)]\n"
     ]
    }
   ],
   "source": [
    "rows = cursor.execute(\"SELECT * FROM satellital_images_sensor_collection_att\").fetchall()\n",
    "print(rows)"
   ]
  },
  {
   "cell_type": "code",
   "execution_count": 27,
   "id": "1ed29b50",
   "metadata": {},
   "outputs": [
    {
     "name": "stdout",
     "output_type": "stream",
     "text": [
      "[(1, 32038)]\n"
     ]
    }
   ],
   "source": [
    "rows = cursor.execute(\"SELECT * FROM satellital_images_pathrow\").fetchall()\n",
    "print(rows)"
   ]
  },
  {
   "cell_type": "markdown",
   "id": "82f13fa1",
   "metadata": {},
   "source": [
    "**If we want to change path_row attribute (column) of PathRow class:**"
   ]
  },
  {
   "cell_type": "code",
   "execution_count": 28,
   "id": "a3dcba14",
   "metadata": {},
   "outputs": [
    {
     "name": "stdout",
     "output_type": "stream",
     "text": [
      "Overwriting /home/miuser/example-django/myproj/satellital_images/models.py\n"
     ]
    }
   ],
   "source": [
    "%%file {os.environ[\"HOME\"]}/myproj/satellital_images/models.py\n",
    "from django.db import models\n",
    "\n",
    "class Collection(models.Model):\n",
    "    collection_type = models.CharField(unique=True, max_length=5)\n",
    "\n",
    "class Sensor(models.Model):\n",
    "    sensor_type = models.CharField(unique=True, max_length=10)\n",
    "    collection_att = models.ManyToManyField(\"Collection\")\n",
    "\n",
    "class PathRow(models.Model):\n",
    "    path_row = models.CharField(unique=True,max_length=10)#here the change\n",
    "    \n",
    "class Image(models.Model):\n",
    "    download_url = models.CharField(max_length=200, default=None)\n",
    "    sensor_image_att = models.ForeignKey(Sensor, related_name=\"sensor_images\", on_delete=models.CASCADE)\n",
    "    path_row_image_att = models.ForeignKey(PathRow, related_name=\"pathrow_images\", on_delete=models.CASCADE)\n",
    "    collection_image_att = models.ForeignKey(Collection, related_name=\"collection_images\", on_delete=models.CASCADE)\n",
    "    acquisition_date = models.DateTimeField()\n",
    "    "
   ]
  },
  {
   "cell_type": "markdown",
   "id": "d2bde71f",
   "metadata": {},
   "source": [
    "**Another scene:**"
   ]
  },
  {
   "cell_type": "code",
   "execution_count": 2,
   "id": "02ac89ac",
   "metadata": {},
   "outputs": [],
   "source": [
    "scene = \"scene1.txt\""
   ]
  },
  {
   "cell_type": "code",
   "execution_count": 3,
   "id": "24a934dd",
   "metadata": {},
   "outputs": [],
   "source": [
    "scene_url = os.path.join(url, scene)"
   ]
  },
  {
   "cell_type": "code",
   "execution_count": 4,
   "id": "bee738ae",
   "metadata": {},
   "outputs": [],
   "source": [
    "r = requests.get(scene_url)"
   ]
  },
  {
   "cell_type": "code",
   "execution_count": 5,
   "id": "aad01e1d",
   "metadata": {},
   "outputs": [
    {
     "data": {
      "text/plain": [
       "<Response [200]>"
      ]
     },
     "execution_count": 5,
     "metadata": {},
     "output_type": "execute_result"
    }
   ],
   "source": [
    "r"
   ]
  },
  {
   "cell_type": "code",
   "execution_count": 6,
   "id": "d7e9efa6",
   "metadata": {},
   "outputs": [],
   "source": [
    "scene = r.json()"
   ]
  },
  {
   "cell_type": "code",
   "execution_count": 33,
   "id": "ef1e82ef",
   "metadata": {},
   "outputs": [
    {
     "data": {
      "text/plain": [
       "{'acquisitionDate': '2013-03-11',\n",
       " 'startTime': '2013-03-11',\n",
       " 'endTime': '2013-03-11',\n",
       " 'lowerLeftCoordinate': {'latitude': 32.50897, 'longitude': -90.64024},\n",
       " 'upperLeftCoordinate': {'latitude': 34.20572, 'longitude': -90.19275},\n",
       " 'upperRightCoordinate': {'latitude': 33.83685, 'longitude': -88.27833},\n",
       " 'lowerRightCoordinate': {'latitude': 32.14512, 'longitude': -88.7621},\n",
       " 'spatialFootprint': {'type': 'Polygon',\n",
       "  'coordinates': [[[-90.64024, 32.50897],\n",
       "    [-88.7621, 32.14512],\n",
       "    [-88.27833, 33.83685],\n",
       "    [-90.19275, 34.20572],\n",
       "    [-90.64024, 32.50897]]]},\n",
       " 'sceneBounds': '-90.64024,32.14512,-88.27833,34.20572',\n",
       " 'browseUrl': 'https://ims.cr.usgs.gov/browse/landsat_8_c1/2013/022/037/LT08_L1GT_022037_20130311_20170310_01_T2.jpg',\n",
       " 'dataAccessUrl': 'https://earthexplorer.usgs.gov/metadata/full/landsat_8_c1/LT80220372013070LGN02/',\n",
       " 'downloadUrl': 'https://earthexplorer.usgs.gov/download/external/options/landsat_8_c1/LT80220372013070LGN02/EE/',\n",
       " 'entityId': 'LT80220372013070LGN02',\n",
       " 'displayId': 'LT08_L1GT_022037_20130311_20170310_01_T2',\n",
       " 'metadataUrl': 'https://earthexplorer.usgs.gov/metadata/full/landsat_8_c1/LT80220372013070LGN02/?responseType=viewXml',\n",
       " 'fgdcMetadataUrl': 'https://earthexplorer.usgs.gov/metadata/fgdc/landsat_8_c1/LT80220372013070LGN02/',\n",
       " 'modifiedDate': '2013-03-11 16:27:39',\n",
       " 'orderUrl': None,\n",
       " 'bulkOrdered': False,\n",
       " 'ordered': False,\n",
       " 'summary': ''}"
      ]
     },
     "execution_count": 33,
     "metadata": {},
     "output_type": "execute_result"
    }
   ],
   "source": [
    "scene "
   ]
  },
  {
   "cell_type": "code",
   "execution_count": 34,
   "id": "c01443e4",
   "metadata": {},
   "outputs": [],
   "source": [
    "download_url = scene[\"downloadUrl\"]\n",
    "d = scene[\"displayId\"]\n",
    "list_d = d.split(\"_\")\n",
    "sensor=list_d[0]\n",
    "pathrow = list_d[2]\n",
    "collection=list_d[5]\n",
    "acq_date = scene[\"acquisitionDate\"]"
   ]
  },
  {
   "cell_type": "code",
   "execution_count": 35,
   "id": "cc91485c",
   "metadata": {},
   "outputs": [
    {
     "data": {
      "text/plain": [
       "'022037'"
      ]
     },
     "execution_count": 35,
     "metadata": {},
     "output_type": "execute_result"
    }
   ],
   "source": [
    "pathrow"
   ]
  },
  {
   "cell_type": "code",
   "execution_count": 36,
   "id": "224efc1c",
   "metadata": {},
   "outputs": [
    {
     "data": {
      "text/plain": [
       "'01'"
      ]
     },
     "execution_count": 36,
     "metadata": {},
     "output_type": "execute_result"
    }
   ],
   "source": [
    "collection"
   ]
  },
  {
   "cell_type": "code",
   "execution_count": 37,
   "id": "61edb833",
   "metadata": {},
   "outputs": [
    {
     "data": {
      "text/plain": [
       "'LT08'"
      ]
     },
     "execution_count": 37,
     "metadata": {},
     "output_type": "execute_result"
    }
   ],
   "source": [
    "sensor"
   ]
  },
  {
   "cell_type": "code",
   "execution_count": 38,
   "id": "ac12731c",
   "metadata": {},
   "outputs": [],
   "source": [
    "coll = Collection.objects.get_or_create(collection_type=collection)\n",
    "pr = PathRow.objects.get_or_create(path_row=pathrow)\n",
    "sen = Sensor.objects.get_or_create(sensor_type=sensor)"
   ]
  },
  {
   "cell_type": "code",
   "execution_count": 39,
   "id": "4769782d",
   "metadata": {},
   "outputs": [
    {
     "data": {
      "text/plain": [
       "(<Collection: Collection object (1)>, False)"
      ]
     },
     "execution_count": 39,
     "metadata": {},
     "output_type": "execute_result"
    }
   ],
   "source": [
    "coll"
   ]
  },
  {
   "cell_type": "code",
   "execution_count": 40,
   "id": "489f1eb5",
   "metadata": {},
   "outputs": [
    {
     "data": {
      "text/plain": [
       "(<PathRow: PathRow object (2)>, True)"
      ]
     },
     "execution_count": 40,
     "metadata": {},
     "output_type": "execute_result"
    }
   ],
   "source": [
    "pr"
   ]
  },
  {
   "cell_type": "code",
   "execution_count": 41,
   "id": "320bcaa0",
   "metadata": {},
   "outputs": [
    {
     "data": {
      "text/plain": [
       "(<Sensor: Sensor object (1)>, False)"
      ]
     },
     "execution_count": 41,
     "metadata": {},
     "output_type": "execute_result"
    }
   ],
   "source": [
    "sen"
   ]
  },
  {
   "cell_type": "markdown",
   "id": "4c31ca05",
   "metadata": {},
   "source": [
    "**True was created a new row, False just get the row**"
   ]
  },
  {
   "cell_type": "code",
   "execution_count": 42,
   "id": "4bf43a88",
   "metadata": {},
   "outputs": [],
   "source": [
    "coll = coll[0]\n",
    "pr = pr[0]\n",
    "sen = sen[0]"
   ]
  },
  {
   "cell_type": "code",
   "execution_count": 43,
   "id": "8a8ea1c9",
   "metadata": {},
   "outputs": [],
   "source": [
    "#next set default to avoid SynchronousOnlyOperation error:\n",
    "#You cannot call this from an async context - use a thread or sync_to_async.\n",
    "os.environ.setdefault(\"DJANGO_ALLOW_ASYNC_UNSAFE\", \"true\")\n",
    "coll.save()\n",
    "pr.save()\n",
    "sen.save()\n",
    "sen.collection_att.add(coll)"
   ]
  },
  {
   "cell_type": "code",
   "execution_count": 44,
   "id": "8a21a37b",
   "metadata": {},
   "outputs": [],
   "source": [
    "img = Image(download_url=download_url,\n",
    "            sensor_image_att=sen,\n",
    "            path_row_image_att=pr,\n",
    "            collection_image_att=coll,\n",
    "            acquisition_date=acq_date)"
   ]
  },
  {
   "cell_type": "code",
   "execution_count": 45,
   "id": "c83a6cd2",
   "metadata": {},
   "outputs": [
    {
     "name": "stderr",
     "output_type": "stream",
     "text": [
      "/home/miuser/.local/lib/python3.6/site-packages/django/db/models/fields/__init__.py:1370: RuntimeWarning: DateTimeField Image.acquisition_date received a naive datetime (2013-03-11 00:00:00) while time zone support is active.\n",
      "  RuntimeWarning)\n"
     ]
    }
   ],
   "source": [
    "#next set default to avoid SynchronousOnlyOperation error:\n",
    "#You cannot call this from an async context - use a thread or sync_to_async.\n",
    "os.environ.setdefault(\"DJANGO_ALLOW_ASYNC_UNSAFE\", \"true\")\n",
    "img.save()"
   ]
  },
  {
   "cell_type": "code",
   "execution_count": 46,
   "id": "425f76ce",
   "metadata": {},
   "outputs": [
    {
     "name": "stdout",
     "output_type": "stream",
     "text": [
      "[('django_migrations',), ('sqlite_sequence',), ('auth_group_permissions',), ('auth_user_groups',), ('auth_user_user_permissions',), ('django_admin_log',), ('django_content_type',), ('auth_permission',), ('auth_group',), ('auth_user',), ('django_session',), ('satellital_images_collection',), ('satellital_images_sensor',), ('satellital_images_sensor_collection_att',), ('satellital_images_image',), ('satellital_images_pathrow',)]\n"
     ]
    }
   ],
   "source": [
    "connection = sqlite3.connect(\"db.sqlite3\")\n",
    "cursor = connection.cursor()\n",
    "\n",
    "cursor.execute(\"SELECT name FROM sqlite_master WHERE type='table';\")\n",
    "\n",
    "print(cursor.fetchall())"
   ]
  },
  {
   "cell_type": "markdown",
   "id": "56c68e3e",
   "metadata": {},
   "source": [
    "**Next just to check, normally is not necessary to execute:**"
   ]
  },
  {
   "cell_type": "code",
   "execution_count": 47,
   "id": "6c688c0f",
   "metadata": {},
   "outputs": [
    {
     "name": "stdout",
     "output_type": "stream",
     "text": [
      "[(1, 'https://earthexplorer.usgs.gov/download/external/options/landsat_8_c1/LT80320382013069LGN02/EE/', '2013-03-10 00:00:00', 1, 1, 1), (2, 'https://earthexplorer.usgs.gov/download/external/options/landsat_8_c1/LT80220372013070LGN02/EE/', '2013-03-11 00:00:00', 1, 2, 1)]\n"
     ]
    }
   ],
   "source": [
    "rows = cursor.execute(\"SELECT * FROM satellital_images_image\").fetchall()\n",
    "print(rows)"
   ]
  },
  {
   "cell_type": "code",
   "execution_count": 48,
   "id": "b90169ed",
   "metadata": {},
   "outputs": [
    {
     "name": "stdout",
     "output_type": "stream",
     "text": [
      "[(1, '01')]\n"
     ]
    }
   ],
   "source": [
    "rows = cursor.execute(\"SELECT * FROM satellital_images_collection\").fetchall()\n",
    "print(rows)"
   ]
  },
  {
   "cell_type": "code",
   "execution_count": 49,
   "id": "0ee32136",
   "metadata": {},
   "outputs": [
    {
     "name": "stdout",
     "output_type": "stream",
     "text": [
      "[(1, 'LT08')]\n"
     ]
    }
   ],
   "source": [
    "rows = cursor.execute(\"SELECT * FROM satellital_images_sensor\").fetchall()\n",
    "print(rows)"
   ]
  },
  {
   "cell_type": "code",
   "execution_count": 50,
   "id": "cf0ddf48",
   "metadata": {},
   "outputs": [
    {
     "name": "stdout",
     "output_type": "stream",
     "text": [
      "[(1, 1, 1)]\n"
     ]
    }
   ],
   "source": [
    "rows = cursor.execute(\"SELECT * FROM satellital_images_sensor_collection_att\").fetchall()\n",
    "print(rows)"
   ]
  },
  {
   "cell_type": "code",
   "execution_count": 51,
   "id": "27e6f5d8",
   "metadata": {},
   "outputs": [
    {
     "name": "stdout",
     "output_type": "stream",
     "text": [
      "[(1, '32038'), (2, '22037')]\n"
     ]
    }
   ],
   "source": [
    "rows = cursor.execute(\"SELECT * FROM satellital_images_pathrow\").fetchall()\n",
    "print(rows)"
   ]
  }
 ],
 "metadata": {
  "kernelspec": {
   "display_name": "Python 3",
   "language": "python",
   "name": "python3"
  },
  "language_info": {
   "codemirror_mode": {
    "name": "ipython",
    "version": 3
   },
   "file_extension": ".py",
   "mimetype": "text/x-python",
   "name": "python",
   "nbconvert_exporter": "python",
   "pygments_lexer": "ipython3",
   "version": "3.6.9"
  }
 },
 "nbformat": 4,
 "nbformat_minor": 5
}
