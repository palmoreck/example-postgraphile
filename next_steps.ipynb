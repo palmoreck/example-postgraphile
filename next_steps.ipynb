{
 "cells": [
  {
   "cell_type": "markdown",
   "id": "4b424c5f-f01e-4715-b56c-416090edee4e",
   "metadata": {},
   "source": [
    "## Next steps"
   ]
  },
  {
   "cell_type": "markdown",
   "id": "49ea7060-aabf-4e6f-9231-2bd99f854c86",
   "metadata": {},
   "source": [
    "* Example [get_started_with_postgraphile](https://github.com/palmoreck/example-postgraphile/blob/main/get_started_with_postgraphile.ipynb) can also be described using https://github.com/graphql-python/graphene-django/ \n",
    "\n",
    "* Graphene. For spatial operations such as convex hull. See: https://github.com/graphql-python/graphene\n",
    "\n",
    "* For last point could be useful check resolvers for GQL. See: \n",
    "\n",
    "    * https://abhiaiyer.medium.com/querying-a-geographical-database-with-graphql-adf093309c16\n",
    "    \n",
    "    * https://github.com/abhiaiyer91/DopeGraphqlServer\n",
    "\n",
    "* Postgraphile using plugins that allows Spatial operations such as convex hull. See https://github.com/RoadRunnerEngineering/postgraphile-plugin-custom-filter\n",
    "\n",
    "* Frontend. See https://github.com/graphile/starter\n",
    "\n",
    "* Use sqlalchemy/geoalchemy as another option to django as graphene support sqlalchemy. See: https://geoalchemy-2.readthedocs.io/en/latest/\n",
    "\n",
    "* Another example using OpenFlights Dataset. See:\n",
    "\n",
    "    * https://clearpoint.digital/big-data/struggling-with-reference-data-heres-a-great-approach/ \n",
    "    \n",
    "    * https://github.com/rabidgremlin/GraphQLReferenceData/blob/master/datagen/gen_data.py\n",
    "    \n",
    "* GQL and Sequelize. See: https://andela.com/insights/using-graphql-and-sequelize/    "
   ]
  },
  {
   "cell_type": "markdown",
   "id": "fd981287-da22-45b8-b3ba-e0a2fd803e58",
   "metadata": {},
   "source": [
    "## Another set of references\n",
    "\n",
    "* https://www.saltycrane.com/blog/2019/02/creating-graphql-api-python-graphene-and-postgres/\n",
    "\n",
    "* https://github.com/EverWinter23/graphene-gis\n",
    "\n",
    "* https://www.contentful.com/blog/2021/01/14/GraphQL-via-HTTP-in-five-ways/\n",
    "\n",
    "* https://graphql.org/code/\n",
    "\n",
    "* https://docs.github.com/en/graphql/guides/migrating-from-rest-to-graphql\n",
    "\n",
    "* https://docs.github.com/en/graphql/reference/queries\n",
    "\n",
    "* https://relay.dev/\n",
    "\n",
    "* https://github.com/facebook/relay"
   ]
  }
 ],
 "metadata": {
  "kernelspec": {
   "display_name": "Python 3",
   "language": "python",
   "name": "python3"
  },
  "language_info": {
   "codemirror_mode": {
    "name": "ipython",
    "version": 3
   },
   "file_extension": ".py",
   "mimetype": "text/x-python",
   "name": "python",
   "nbconvert_exporter": "python",
   "pygments_lexer": "ipython3",
   "version": "3.6.9"
  }
 },
 "nbformat": 4,
 "nbformat_minor": 5
}
